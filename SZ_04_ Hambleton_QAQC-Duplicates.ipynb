{
 "cells": [
  {
   "cell_type": "code",
   "execution_count": 1,
   "metadata": {},
   "outputs": [
    {
     "name": "stdout",
     "output_type": "stream",
     "text": [
      "(1425, 84)\n",
      "['OBJECTID Detection Limit Analysis Method', 'Easting', 'Northing', 'Name', 'ID', 'sampler', 'physiography', 'slope', 'direction', 'drainage', 'vegetation', 'contamination', 'depth from (cm)', 'depth to (cm)', 'Clay %', 'Sand %', 'Gravel %', 'Organic %', 'Other %', 'Pebbles', 'Cobbles', 'Boulders', 'Notes1', 'Notes2', 'Date', 'Duplicate', 'Oxidation', 'Colour', 'GlobalID', 'Silt %', 'x', 'y', 'Sample_Number', 'Au_ppb 2 INAA', 'Ag_ppm 0.3 MULT INAA / TD-ICP', 'Cu_ppm 1 TD-ICP', 'Pb_ppm 0.3 TD-ICP', 'Zn_ppm 1 TD-ICP', 'Ni_ppm 3 TD-ICP', 'Co_ppm 1 MULT INAA / TD-ICP', 'As_ppm 1 MULT INAA / TD-ICP', 'W_ppm 0.01 TD-ICP', 'Hg_ppm 0.01 TD-ICP', 'Mo_ppm 0.5 INAA', 'Sb_ppm 50 INAA', 'U_ppm 1 TD-ICP', 'Sn_% 2 TD-ICP', 'Cd_ppm 0.5 INAA', 'S_% 0.01 TD-ICP', 'Al_% 1 INAA', 'Ba_ppm 2 INAA', 'Be_ppm 1 INAA', 'Bi_ppm 0.2 INAA', 'Br_ppm 0.01 INAA', 'Ca_% 1 INAA', 'Cr_ppm 1 INAA', 'Cs_ppm 5 INAA', 'Eu_ppm 0.01 TD-ICP', 'Fe_% 1 TD-ICP', 'Hf_ppm 0.01 TD-ICP', 'Ir_ppb 1 TD-ICP', 'K_% 0.01 INAA', 'Li_ppm 0.001 TD-ICP', 'Mg_% 15 INAA', 'Mn_ppm 0.1 INAA', 'Na_% 0.1 INAA', 'P_% 3 INAA', 'Rb_ppm 1 TD-ICP', 'Sc_ppm 0.5 INAA', 'Se_ppm 0.01 TD-ICP', 'Sr_ppm 0.2 INAA', 'Ta_ppm 0.5 INAA', 'Ti_% 2 TD-ICP', 'Th_ppm 1 INAA', 'V_ppm 1 TD-ICP', 'Y_ppm 0.5 INAA', 'La_ppm 3 INAA', 'Ce_ppm 5 INAA', 'Nd_ppm 0.1 INAA', 'Sm_ppm 0.02 INAA', 'Tb_ppm 0.5 INAA', 'Yb_ppm 0.2 INAA', 'Lu_ppm 0.05 INAA', 'Mass_g  INAA']\n"
     ]
    }
   ],
   "source": [
    "import numpy as np\n",
    "import pandas as pd\n",
    "import sys\n",
    "\n",
    "\n",
    "# db = pd.read_csv('append.csv', sep=',', header=0, \\\n",
    "#                  dtype={'SAMPLE_ID': object, 'ALT_Arg': object, 'ALT_Sil': object, 'MN_Min1_Style': object, 'MIN1': object, \\\n",
    "#                         'MN_MinOxState': object, 'MN_Ox1_Color': object, 'MN_Ox1_ColorMod': object, 'MN_Ox1_Gsize': object,\\\n",
    "#                         'MN_Sulfide_1': object, 'MN_Sulfide_1_Gsize': object, 'MN_Sulfide_1_Style': object, \\\n",
    "#                         'ST_Type': object, 'VN_Style': object, 'LTFORM':object, 'Formation':object}, \\\n",
    "#                  keep_default_na=True, na_filter=True, engine = 'python')\n",
    "\n",
    "db = pd.read_csv('Nov_21_Soils_2018_Hambleton.csv', sep=',', header=None, dtype=object, keep_default_na=False, na_filter=True, engine = 'python')\n",
    "                 \n",
    "print(db.shape)\n",
    "\n",
    "db.columns = db.loc[0:2].fillna('').apply(' '.join).str.strip()\n",
    "db = db.loc[3:].reset_index(drop=True)\n",
    "\n",
    "print(list(db.columns.values))\n",
    "\n"
   ]
  },
  {
   "cell_type": "code",
   "execution_count": 2,
   "metadata": {},
   "outputs": [],
   "source": [
    "db.columns = ['OBJECTID', 'Easting', 'Northing', 'Name', 'ID', 'sampler', 'physiography', \n",
    "              'slope', 'direction', 'drainage', 'vegetation', 'contamination', \n",
    "              'depth from (cm)', 'depth to (cm)', 'Clay %', 'Sand %', 'Gravel %', 'Organic %', \n",
    "              'Other %', 'Pebbles', 'Cobbles', 'Boulders', 'Notes1', 'Notes2', 'Date', \n",
    "              'Duplicate', 'Oxidation', 'Colour', 'GlobalID', 'Silt %', 'x', 'y', 'Sample_Number', \n",
    "              'Au_ppb', \n",
    "              'Ag_ppm', \n",
    "              'Cu_ppm', \n",
    "              'Pb_ppm', \n",
    "              'Zn_ppm', \n",
    "              'Ni_ppm', \n",
    "              'Co_ppm', \n",
    "              'As_ppm', \n",
    "              'W_ppm', \n",
    "              'Hg_ppm', \n",
    "              'Mo_ppm', \n",
    "              'Sb_ppm', \n",
    "              'U_ppm', \n",
    "              'Sn_pct', \n",
    "              'Cd_ppm', \n",
    "              'S_pct', \n",
    "              'Al_pct', \n",
    "              'Ba_ppm', \n",
    "              'Be_ppm', \n",
    "              'Bi_ppm', \n",
    "              'Br_ppm', \n",
    "              'Ca_pct', \n",
    "              'Cr_ppm', \n",
    "              'Cs_ppm', \n",
    "              'Eu_ppm', \n",
    "              'Fe_pct', \n",
    "              'Hf_ppm', \n",
    "              'Ir_ppb', \n",
    "              'K_pct', \n",
    "              'Li_ppm', \n",
    "              'Mg_pct', \n",
    "              'Mn_ppm', \n",
    "              'Na_pct', \n",
    "              'P_pct', \n",
    "              'Rb_ppm', \n",
    "              'Sc_ppm', \n",
    "              'Se_ppm', \n",
    "              'Sr_ppm', \n",
    "              'Ta_ppm', \n",
    "              'Ti_pct', \n",
    "              'Th_ppm', \n",
    "              'V_ppm', \n",
    "              'Y_ppm', \n",
    "              'La_ppm', \n",
    "              'Ce_ppm', \n",
    "              'Nd_ppm', \n",
    "              'Sm_ppm', \n",
    "              'Tb_ppm', \n",
    "              'Yb_ppm', \n",
    "              'Lu_ppm', \n",
    "              'Mass_g']\n",
    "\n",
    "\n",
    "# ['Sample#', 'Date', 'Sampler', 'Easting', 'Northing', 'Zone/Area', 'Rock_Type_Code', \n",
    "#               'Description', 'Comment', \n",
    "#               'Au_ppb', 'Au_ppm_grav', 'Au_ppm_PM', \n",
    "#               'Li_ppm', 'Na_pct', 'Mg_pct', \n",
    "#               'Al_pct', 'K_pct', 'Ca_pct', 'Cd_ppm', 'V_ppm', 'Cr_ppm', \n",
    "#               'Mn ppm', 'Fe_pct', 'Hf_ppm', 'Hg_ppb', 'Ni_ppm', 'Er_ppm', 'Be_ppm', \n",
    "#               'Ho_ppm', 'Ag_ppm', 'Cs_ppm', 'Co_ppm', 'Eu_ppm', 'Bi_ppm', 'Se_ppm', \n",
    "#               'Zn_ppm', 'Ga_ppm', 'As_ppm', 'Rb_ppm', 'Y_ppm', 'Sr_ppm', 'Zr_ppm', \n",
    "#               'Nb_ppm', 'Mo_ppm', 'In_ppm', 'Sn_ppm', 'Sb_ppm', 'Te_ppm', 'Ba_ppm', \n",
    "#               'La_ppm', 'Ce_ppm', 'Pr_ppm', 'Nd_ppm', 'Sm_ppm', 'Gd_ppm', 'Tb_ppm', \n",
    "#               'Dy_ppm', 'Cu_ppm', 'Ge_ppm', 'Tm_ppm', 'Yb_ppm', 'Lu_ppm', 'Ta_ppm', \n",
    "#               'W_ppm', 'Re_ppm', 'Tl_ppm', 'Pb_ppm', 'Sc_ppm', 'Th_ppm', 'U_ppm', \n",
    "#               'Ti_pct', 'P_pct', 'S_pct', 'Pt_unk', 'Pd_unk']\n",
    "\n",
    "db.to_csv('Nov_25_Soils_2018_Hambleton_JDiaz.csv', index=False, header=True)"
   ]
  },
  {
   "cell_type": "code",
   "execution_count": 25,
   "metadata": {},
   "outputs": [],
   "source": [
    "db = pd.read_csv('Nov_25_Soils_2018_Hambleton_JDiaz_mod.csv', sep=',', header=0, dtype=object, keep_default_na=False, na_filter=True, engine = 'python')"
   ]
  },
  {
   "cell_type": "code",
   "execution_count": 26,
   "metadata": {},
   "outputs": [
    {
     "name": "stdout",
     "output_type": "stream",
     "text": [
      "(19, 85)\n"
     ]
    }
   ],
   "source": [
    "db_Oreas250 = db[db['Notes2'] == 'Oreas 250']\n",
    "print(db_Oreas250.shape)"
   ]
  },
  {
   "cell_type": "code",
   "execution_count": 27,
   "metadata": {},
   "outputs": [
    {
     "name": "stdout",
     "output_type": "stream",
     "text": [
      "(19, 85)\n"
     ]
    }
   ],
   "source": [
    "db_Oreas45e = db[db['Notes2'] == 'Oreas 45e']\n",
    "print(db_Oreas45e.shape)"
   ]
  },
  {
   "cell_type": "code",
   "execution_count": 28,
   "metadata": {},
   "outputs": [
    {
     "name": "stdout",
     "output_type": "stream",
     "text": [
      "(18, 85)\n"
     ]
    }
   ],
   "source": [
    "db_blk = db[db['Notes2'] == 'Oreas Blank']\n",
    "print(db_blk.shape)"
   ]
  },
  {
   "cell_type": "code",
   "execution_count": 30,
   "metadata": {},
   "outputs": [
    {
     "name": "stdout",
     "output_type": "stream",
     "text": [
      "(38, 85)\n"
     ]
    }
   ],
   "source": [
    "db_CRM = pd.concat([db_Oreas250, db_Oreas45e])\n",
    "print(db_CRM.shape)"
   ]
  },
  {
   "cell_type": "code",
   "execution_count": 31,
   "metadata": {},
   "outputs": [],
   "source": [
    "db_CRM.to_csv('Nov_25_Soils_2018_Hambleton_CMR_JDiaz.csv', index=False, header=True)\n",
    "db_blk.to_csv('Nov_25_Soils_2018_Hambleton_BLK_JDiaz.csv', index=False, header=True)"
   ]
  },
  {
   "cell_type": "code",
   "execution_count": 22,
   "metadata": {},
   "outputs": [],
   "source": [
    "#db = pd.read_csv('Nov_25_Soils_2018_Hambleton_JDiaz.csv', sep=',', header=0, dtype=object, keep_default_na=False, na_filter=True, engine = 'python')\n",
    " "
   ]
  },
  {
   "cell_type": "code",
   "execution_count": 33,
   "metadata": {},
   "outputs": [
    {
     "name": "stdout",
     "output_type": "stream",
     "text": [
      "(112, 85)\n"
     ]
    }
   ],
   "source": [
    "db_dup = db[db['dup_pairs'] != '']\n",
    "\n",
    "# db_dup_2 = db[db['Notes2'] == 'duplicate']\n",
    "# db_dup_3 = db[db['Notes2'] == 'Duplicate ']\n",
    "# print(db_dup_1.shape)\n",
    "# print(db_dup_2.shape)\n",
    "print(db_dup.shape)\n",
    "db_dup.to_csv('Nov_25_Soils_2018_Hambleton_DUP_JDiaz.csv', index=False, header=True)\n",
    "# db_dup_1 = db_dup.index.unique()\n",
    "# print(db_dup_1)"
   ]
  },
  {
   "cell_type": "code",
   "execution_count": 34,
   "metadata": {},
   "outputs": [
    {
     "name": "stdout",
     "output_type": "stream",
     "text": [
      "(1403, 85)\n",
      "(1384, 85)\n",
      "(1366, 85)\n",
      "(1254, 85)\n"
     ]
    }
   ],
   "source": [
    "db = db[db['Notes2'] != 'Oreas 250']\n",
    "print(db.shape)\n",
    "db = db[db['Notes2'] != 'Oreas 45e']\n",
    "print(db.shape)\n",
    "db = db[db['Notes2'] != 'Oreas Blank']\n",
    "print(db.shape)\n",
    "db = db[db['dup_pairs'] == '']\n",
    "print(db.shape)"
   ]
  },
  {
   "cell_type": "code",
   "execution_count": 35,
   "metadata": {},
   "outputs": [],
   "source": [
    "db.to_csv('Nov_25_Soils_2018_Hambleton_Data_JDiaz.csv', index=False, header=True)"
   ]
  },
  {
   "cell_type": "code",
   "execution_count": null,
   "metadata": {},
   "outputs": [],
   "source": []
  }
 ],
 "metadata": {
  "kernelspec": {
   "display_name": "Python 3",
   "language": "python",
   "name": "python3"
  },
  "language_info": {
   "codemirror_mode": {
    "name": "ipython",
    "version": 3
   },
   "file_extension": ".py",
   "mimetype": "text/x-python",
   "name": "python",
   "nbconvert_exporter": "python",
   "pygments_lexer": "ipython3",
   "version": "3.7.6"
  }
 },
 "nbformat": 4,
 "nbformat_minor": 4
}

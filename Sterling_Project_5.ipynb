{
 "cells": [
  {
   "cell_type": "code",
   "execution_count": 1,
   "metadata": {},
   "outputs": [
    {
     "name": "stdout",
     "output_type": "stream",
     "text": [
      "(14128, 159)\n"
     ]
    },
    {
     "name": "stderr",
     "output_type": "stream",
     "text": [
      "/opt/conda/envs/pyGEOL/lib/python3.7/site-packages/IPython/core/interactiveshell.py:3063: DtypeWarning: Columns (2,18,19,70,72,76,82,86,90,92,94,96,98,104,114,118,120,124,126,134,140,142,150,156,158) have mixed types.Specify dtype option on import or set low_memory=False.\n",
      "  interactivity=interactivity, compiler=compiler, result=result)\n"
     ]
    }
   ],
   "source": [
    "import numpy as np\n",
    "import pandas as pd\n",
    "import sys\n",
    "#sys.setrecursionlimit(10**6)\n",
    "\n",
    "db = pd.read_csv('geochem_2.csv', sep=',', header=0, \n",
    "                 dtype={'LT_ROCKCODE_D': object, 'LT_STRAT_CODE_D': object})\n",
    "print(db.shape)\n"
   ]
  },
  {
   "cell_type": "code",
   "execution_count": 2,
   "metadata": {},
   "outputs": [
    {
     "data": {
      "text/plain": [
       "array(['EARN', 'MLS', 'LZ', 'BRX', 'LBRX', 'MDS', 'MMLS', 'unknown',\n",
       "       'MBRX', 'VOID', 'CAVN', 'YBR', 'UOX', 'FZ', 'TSS', 'EBRX', 'EXH',\n",
       "       'NR', 'OB', 'RRG', 'KECH', 'UZ'], dtype=object)"
      ]
     },
     "execution_count": 2,
     "metadata": {},
     "output_type": "execute_result"
    }
   ],
   "source": [
    "db['LT_ROCKCODE_D'].replace(np.nan,'unknown', inplace=True)\n",
    "db.LT_ROCKCODE_D.unique()"
   ]
  },
  {
   "cell_type": "code",
   "execution_count": 3,
   "metadata": {},
   "outputs": [
    {
     "data": {
      "text/plain": [
       "array(['unknown', '2AA', '1B', '1AA', 'KARST', '1AC', 'MLS1', '2AP',\n",
       "       'MLS2', 'MLS5', 'MLS6', '2AC', 'MLS4', '1A', '2AS', '1BA', 'MLS3',\n",
       "       'LZ', 'MLS', 'VOID', 'LZBX', 'FLT', 'MLSBX', 'MLS†', 'MDS', 'YBR',\n",
       "       'CALVN', 'MBRX', 'EBRX', 'CALCITE VEIN', 'MLS/1A', 'FZ', 'LBRX',\n",
       "       'MLS7', '2B'], dtype=object)"
      ]
     },
     "execution_count": 3,
     "metadata": {},
     "output_type": "execute_result"
    }
   ],
   "source": [
    "db['LT_STRAT_CODE_D'].replace(np.nan,'unknown', inplace=True)\n",
    "db.LT_STRAT_CODE_D.unique()"
   ]
  },
  {
   "cell_type": "code",
   "execution_count": 4,
   "metadata": {},
   "outputs": [
    {
     "data": {
      "text/plain": [
       "array(['EARN_unknown', 'MLS_unknown', 'LZ_unknown', 'BRX_unknown',\n",
       "       'LBRX_unknown', 'MDS_unknown', 'MMLS_unknown', 'unknown_unknown',\n",
       "       'MBRX_unknown', 'VOID_unknown', 'CAVN_unknown', 'YBR_unknown',\n",
       "       'UOX_unknown', 'FZ_unknown', 'TSS_unknown', 'EARN_2AA', 'YBR_1B',\n",
       "       'EARN_1AA', 'EARN_1B', 'EBRX_unknown', 'MBRX_KARST', 'EARN_1AC',\n",
       "       'MLS_MLS1', 'EARN_2AP', 'MLS_MLS2', 'MLS_MLS5', 'MLS_MLS6',\n",
       "       'EARN_2AC', 'EXH_unknown', 'MLS_MLS4', 'LBRX_MLS4', 'EXH_2AA',\n",
       "       'EARN_1A', 'EXH_2AC', 'FZ_1AA', 'EARN_2AS', 'LZ_1AA', 'EARN_1BA',\n",
       "       'MBRX_1AA', 'MLS_MLS3', 'BRX_KARST', 'LBRX_KARST', 'LZ_KARST',\n",
       "       'MLS_KARST', 'MMLS_1AA', 'NR_unknown', 'OB_unknown', 'LZ_LZ',\n",
       "       'MLS_MLS', 'VOID_VOID', 'LBRX_LZBX', 'MLS_LZ', 'FZ_FLT',\n",
       "       'LBRX_MLSBX', 'MLS_MLS†', 'MDS_MDS', 'YBR_YBR', 'LZ_LZBX',\n",
       "       'MBRX_MLSBX', 'MBRX_FLT', 'LBRX_LZ', 'CAVN_CALVN', 'MBRX_MBRX',\n",
       "       'EBRX_EBRX', 'CAVN_CALCITE VEIN', 'LZ_MLS', 'MLS_MLS/1A', 'FZ_FZ',\n",
       "       'LBRX_LBRX', 'NR_1AA', 'MLS_MLS7', 'EBRX_1B', 'RRG_unknown',\n",
       "       'KECH_unknown', 'UZ_unknown', 'EARN_2B'], dtype=object)"
      ]
     },
     "execution_count": 4,
     "metadata": {},
     "output_type": "execute_result"
    }
   ],
   "source": [
    "db['Lithology'] = db['LT_ROCKCODE_D']+'_'+db['LT_STRAT_CODE_D']\n",
    "db.Lithology.unique()"
   ]
  },
  {
   "cell_type": "code",
   "execution_count": 5,
   "metadata": {},
   "outputs": [
    {
     "data": {
      "text/plain": [
       "array(['Siltstone/interlayered sandstone', '0_Undiff_MD_Limestone',\n",
       "       'Lower Zone sulphide', 'Breccia', 'Breccia of limestone clast',\n",
       "       'Dolostone', 'Mineralized limestone', 'unknown',\n",
       "       'Breccia w/ >10% sulphides', 'Void', 'Carbonate vein', 'Dyke',\n",
       "       'Undifferentiated oxide', 'Fault zone', 'Tapioca Sandstone',\n",
       "       'Siltstone and mudstone', 'Interlayered sandstone dyke',\n",
       "       'Black shale', 'Interlayered sandstone',\n",
       "       'Siltstone/interlayered sandstone breccia',\n",
       "       'Karst/breccia w/ >10% sulphides', 'Calcareous mudstone',\n",
       "       '1_MD_Mudstone', 'Sandstone', '2_MD_Limestone', '5_MD_Limestone',\n",
       "       '6_MD_Limestone', 'Siltstone', 'Exhalite', '4_MD_Limestone',\n",
       "       'Breccia w/ McDame Limestone 4 clast',\n",
       "       'Exhalite siltstone and mudstone', 'Exhalite siltstone',\n",
       "       'Fault zone - Black shale', 'Slaty siltstone',\n",
       "       'Lower Zone sulphide/black shale',\n",
       "       'Siltstone/interlayered sandstone transition',\n",
       "       'Black shale breccia w/ >10% sulphides', '3_MD_Limestone',\n",
       "       'Karst breccia', 'Lower Zone sulphide/karst', 'Limestone/karst',\n",
       "       'Mineralized black shale', 'No recovery', 'Overburden',\n",
       "       'Lower Zone sulphide breccia', 'Lower Zone sulph/limestone',\n",
       "       'Limestone/breccia w/ >10% sulphides',\n",
       "       'McDame limestone/Earn group siltstone?', '7_MD_Limestone',\n",
       "       'Interlayered sandstone breccia', 'Road River Group',\n",
       "       'Kechka Group', 'Conglomerate and sandstone breccia'], dtype=object)"
      ]
     },
     "execution_count": 5,
     "metadata": {},
     "output_type": "execute_result"
    }
   ],
   "source": [
    "db = db.replace({'Lithology': {'EARN_2AA': 'Siltstone and mudstone',\n",
    "                               'YBR_1B': 'Interlayered sandstone dyke',\n",
    "                               'EARN_1AA':'Black shale',\n",
    "                               'EARN_1B':'Interlayered sandstone',\n",
    "                               'MBRX_KARST':'Karst/breccia w/ >10% sulphides',\n",
    "                               'EARN_1AC':'Calcareous mudstone', #\n",
    "                               'MLS_MLS1':'1_MD_Mudstone',#\n",
    "                               'EARN_2AP':'Sandstone',#\n",
    "                               'MLS_MLS2':'2_MD_Limestone',#\n",
    "                               'MLS_MLS5':'5_MD_Limestone',#\n",
    "                               'MLS_MLS6':'6_MD_Limestone',#\n",
    "                               'EARN_2AC':'Siltstone',#\n",
    "                               'MLS_MLS4':'4_MD_Limestone',#\n",
    "                               'LBRX_MLS4':'Breccia w/ McDame Limestone 4 clast',#\n",
    "                               'EXH_2AA':'Exhalite siltstone and mudstone',#\n",
    "                               'EARN_1A':'Siltstone',#\n",
    "                               'EXH_2AC':'Exhalite siltstone',#\n",
    "                               'FZ_1AA':'Fault zone - Black shale',#\n",
    "                               'EARN_2AS':'Slaty siltstone',#\n",
    "                               'LZ_1AA':'Lower Zone sulphide/black shale',#\n",
    "                               'EARN_1BA':'Siltstone/interlayered sandstone transition',#\n",
    "                               'MBRX_1AA':'Black shale breccia w/ >10% sulphides',#\n",
    "                               'MLS_MLS3':'3_MD_Limestone',#\n",
    "                               'BRX_KARST':'Karst breccia',#\n",
    "                               'LBRX_KARST':'Karst breccia',#\n",
    "                               'LZ_KARST':'Lower Zone sulphide/karst',#\n",
    "                               'MLS_KARST':'Limestone/karst',#\n",
    "                               'MMLS_1AA':'Mineralized black shale',#\n",
    "                               'LZ_LZ':'Lower Zone sulphide',#\n",
    "                               'MLS_MLS':'0_Undiff_MD_Limestone',#\n",
    "                               'VOID_VOID':'Void',\n",
    "                               'LBRX_LZBX':'Lower Zone sulphide breccia',#\n",
    "                               'MLS_LZ':'Lower Zone sulph/limestone',#\n",
    "                               'FZ_FLT':'Fault zone',#\n",
    "                               'LBRX_MLSBX':'Breccia of limestone clast',#\n",
    "                               'MLS_MLS†':'0_Undiff_MD_Limestone',#\n",
    "                               'MDS_MDS':'Dolostone',#\n",
    "                               'YBR_YBR':'Dyke',#\n",
    "                               'LZ_LZBX':'Lower Zone sulphide breccia',#\n",
    "                               'MBRX_MLSBX':'Limestone/breccia w/ >10% sulphides',#\n",
    "                               'MBRX_FLT':'Breccia w/ >10% sulphides',#\n",
    "                               'LBRX_LZ':'Lower Zone sulphide breccia',#\n",
    "                               'CAVN_CALVN':'Carbonate vein',#\n",
    "                               'MBRX_MBRX':'Breccia w/ >10% sulphides',#\n",
    "                               'EBRX_EBRX':'Siltstone/interlayered sandstone breccia',#\n",
    "                               'CAVN_CALCITE VEIN':'Carbonate vein',#\n",
    "                               'LZ_MLS':'Lower Zone sulphide',#\n",
    "                               'MLS_MLS/1A':'McDame limestone/Earn group siltstone?',#\n",
    "                               'FZ_FZ':'Fault zone',#\n",
    "                               'LBRX_LBRX':'Breccia of limestone clast',#\n",
    "                               'NR_1AA':'Black shale',#\n",
    "                               'MLS_MLS7':'7_MD_Limestone',#\n",
    "                               'EBRX_1B':'Interlayered sandstone breccia',\n",
    "                               'EARN_2B':'Conglomerate and sandstone breccia',\n",
    "                               'EARN_unknown':'Siltstone/interlayered sandstone',\n",
    "                               'MLS_unknown':'0_Undiff_MD_Limestone',\n",
    "                               'LZ_unknown':'Lower Zone sulphide',\n",
    "                               'BRX_unknown':'Breccia',\n",
    "                               'LBRX_unknown':'Breccia of limestone clast',\n",
    "                               'MDS_unknown':'Dolostone',\n",
    "                               'MMLS_unknown':'Mineralized limestone',\n",
    "                               'unknown_unknown':'unknown',\n",
    "                               'MBRX_unknown':'Breccia w/ >10% sulphides',\n",
    "                               'VOID_unknown':'Void',\n",
    "                               'CAVN_unknown':'Carbonate vein',\n",
    "                               'YBR_unknown':'Dyke',\n",
    "                               'UOX_unknown':'Undifferentiated oxide',\n",
    "                               'FZ_unknown':'Fault zone',\n",
    "                               'TSS_unknown':'Tapioca Sandstone',\n",
    "                               'EBRX_unknown':'Siltstone/interlayered sandstone breccia',\n",
    "                               'EXH_unknown':'Exhalite',\n",
    "                               'NR_unknown':'No recovery',\n",
    "                               'OB_unknown':'Overburden',\n",
    "                               'RRG_unknown':'Road River Group',\n",
    "                               'KECH_unknown':'Kechka Group',\n",
    "                               'UZ_unknown':'unknown'\n",
    "                              }})#\n",
    "\n",
    "db.Lithology.unique()"
   ]
  },
  {
   "cell_type": "code",
   "execution_count": 6,
   "metadata": {},
   "outputs": [
    {
     "data": {
      "text/plain": [
       "array(['Earn Group', '0_Undiff_McDame Group', 'Lower Zone sulphide',\n",
       "       'Breccia', 'Dolostone', 'Earn Group - Mineralized Limestone',\n",
       "       'unknown', 'Void', 'Carbonate vein', 'Dyke',\n",
       "       'Undifferentiated oxide', 'Fault zone', 'Tapioca Sandstone',\n",
       "       '1_McDame Group', '2_McDame Group', '5_McDame Group',\n",
       "       '6_McDame Group', 'Exhalite', '4_McDame Group', '3_McDame Group',\n",
       "       'Karst', 'No recovery', 'Overburden', 'McDame/Earn group?',\n",
       "       '7_McDame Group', 'Road River Group', 'Kechka Group'], dtype=object)"
      ]
     },
     "execution_count": 6,
     "metadata": {},
     "output_type": "execute_result"
    }
   ],
   "source": [
    "db['Litho_simpl'] = db['LT_ROCKCODE_D']+'_'+db['LT_STRAT_CODE_D']\n",
    "\n",
    "db = db.replace({'Litho_simpl': {'nan': 'Unknown',\n",
    "                               'EARN_2AA': 'Earn Group',\n",
    "                               'YBR_1B': 'Earn Group',\n",
    "                               'EARN_1AA':'Earn Group',\n",
    "                               'EARN_1B':'Earn Group',\n",
    "                               'MBRX_KARST':'Breccia',\n",
    "                               'EARN_1AC':'Earn Group', \n",
    "                               'MLS_MLS1':'1_McDame Group',\n",
    "                               'EARN_2AP':'Earn Group',\n",
    "                               'MLS_MLS2':'2_McDame Group',#\n",
    "                               'MLS_MLS5':'5_McDame Group',#\n",
    "                               'MLS_MLS6':'6_McDame Group',#\n",
    "                               'EARN_2AC':'Earn Group',#\n",
    "                               'MLS_MLS4':'4_McDame Group',#\n",
    "                               'LBRX_MLS4':'Breccia',#\n",
    "                               'EXH_2AA':'Exhalite',#\n",
    "                               'EARN_1A':'Earn Group',#\n",
    "                               'EXH_2AC':'Exhalite',#\n",
    "                               'FZ_1AA':'Fault zone',#\n",
    "                               'EARN_2AS':'Earn Group',#\n",
    "                               'LZ_1AA':'Lower Zone sulphide',#\n",
    "                               'EARN_1BA':'Earn Group',#\n",
    "                               'MBRX_1AA':'Breccia',#\n",
    "                               'MLS_MLS3':'3_McDame Group',#\n",
    "                               'BRX_KARST':'Breccia',#\n",
    "                               'LBRX_KARST':'Breccia',#\n",
    "                               'LZ_KARST':'Lower Zone sulphide',#\n",
    "                               'MLS_KARST':'Karst',#\n",
    "                               'MMLS_1AA':'Earn Group - Mineralized Limestone',#\n",
    "                               'LZ_LZ':'Lower Zone sulphide',#\n",
    "                               'MLS_MLS':'0_Undiff_McDame Group',#\n",
    "                               'VOID_VOID':'Void',\n",
    "                               'LBRX_LZBX':'Lower Zone sulphide',#\n",
    "                               'MLS_LZ':'Lower Zone sulphide',#\n",
    "                               'FZ_FLT':'Fault zone',#\n",
    "                               'LBRX_MLSBX':'Breccia',#\n",
    "                               'MLS_MLS†':'0_Undiff_McDame Group',#\n",
    "                               'MDS_MDS':'Dolostone',#\n",
    "                               'YBR_YBR':'Dyke',#\n",
    "                               'LZ_LZBX':'Lower Zone sulphide',#\n",
    "                               'MBRX_MLSBX':'Breccia',#\n",
    "                               'MBRX_FLT':'Breccia',#\n",
    "                               'LBRX_LZ':'Lower Zone sulphide',#\n",
    "                               'CAVN_CALVN':'Carbonate vein',#\n",
    "                               'MBRX_MBRX':'Breccia',#\n",
    "                               'EBRX_EBRX':'Breccia',#\n",
    "                               'CAVN_CALCITE VEIN':'Carbonate vein',#\n",
    "                               'LZ_MLS':'Lower Zone sulphide',#\n",
    "                               'MLS_MLS/1A':'McDame/Earn group?',#\n",
    "                               'FZ_FZ':'Fault zone',#\n",
    "                               'LBRX_LBRX':'Breccia',#\n",
    "                               'NR_1AA':'Earn Group',#\n",
    "                               'MLS_MLS7':'7_McDame Group',#\n",
    "                               'EBRX_1B':'Breccia',#\n",
    "                               'EARN_2B':'Earn Group',\n",
    "                               'EARN_unknown':'Earn Group',\n",
    "                               'MLS_unknown':'0_Undiff_McDame Group',\n",
    "                               'LZ_unknown':'Lower Zone sulphide',\n",
    "                               'BRX_unknown':'Breccia',\n",
    "                               'LBRX_unknown':'Breccia',\n",
    "                               'MDS_unknown':'Dolostone',\n",
    "                               'MMLS_unknown':'Earn Group - Mineralized Limestone',\n",
    "                               'unknown_unknown':'unknown',\n",
    "                               'MBRX_unknown':'Breccia',\n",
    "                               'VOID_unknown':'Void',\n",
    "                               'CAVN_unknown':'Carbonate vein',\n",
    "                               'YBR_unknown':'Dyke',\n",
    "                               'UOX_unknown':'Undifferentiated oxide',\n",
    "                               'FZ_unknown':'Fault zone',\n",
    "                               'TSS_unknown':'Tapioca Sandstone',\n",
    "                               'EBRX_unknown':'Breccia',\n",
    "                               'EXH_unknown':'Exhalite',\n",
    "                               'NR_unknown':'No recovery',\n",
    "                               'OB_unknown':'Overburden',\n",
    "                               'RRG_unknown':'Road River Group',\n",
    "                               'KECH_unknown':'Kechka Group',\n",
    "                               'UZ_unknown':'unknown'\n",
    "                              }})#\n",
    "\n",
    "db.Litho_simpl.unique()"
   ]
  },
  {
   "cell_type": "code",
   "execution_count": 7,
   "metadata": {},
   "outputs": [
    {
     "name": "stdout",
     "output_type": "stream",
     "text": [
      "(14128, 108)\n"
     ]
    }
   ],
   "source": [
    "db['Au_ppb'] = db['Au_ppm'] * 1000\n",
    "db['HOLEID'] = db['DHID']\n",
    "db['SAMPLEID'] = db['SAMPLE']\n",
    "db['CO2_pct'] = db['CO2pct']\n",
    "db['C_OR_pct'] = db['CORpct']\n",
    "db['C_TO_pct'] = db['CTOpct']\n",
    "db['SO4_pct'] = db['SO4pct']\n",
    "db['S_TO_pct'] = db['STOpct']\n",
    "db['Ce_ppm'] = db['Ce_BEST_ppm']\n",
    "db['Cs_ppm'] = db['Cs_BEST_ppm']\n",
    "db['Gd_ppm'] = db['Gd_BEST_ppm']\n",
    "db['Se_ppm'] = db['Se_BEST_ppm']\n",
    "db['Hf_ppm'] = db['Hf_BEST_ppm']\n",
    "\n",
    "db_2 = db[['HOLEID', 'PROJ', 'SAMPLEID', 'FROM', 'TO', \n",
    "            'MidEast', 'MidNorth', 'MidRL','Lithology' ,'Litho_simpl','DrillType_D', \n",
    "            'Drilling_Year_D', 'LT_ROCKCODE_D', 'LT_STRAT_CODE_D', \n",
    "            'LT_SUB_UNIT_D', 'LT_TEXTURE_D', 'LT_BX_CLASS_D', \n",
    "            'LT_BX_ROCK1_D', 'LT_BX_ROCK1_PCT_D', \n",
    "            'ALT_MIN1_Infill_INT_D', 'ALT_MIN1_Infill_TYPE_D', \n",
    "            'ALT_MIN1_Infill_DIST_D', 'ALT_MIN1_Ox_DIST_D', \n",
    "            'ALT_MIN1_Ox_INT_D', 'ALT_MIN1_Ox_TYPE_D', \n",
    "            'ALT_MINRx_DIST_D', 'ALT_MINRx_INT_D', 'ALT_MINRx_TYPE_D', \n",
    "            'MIN_CPY_PCT_DF', 'MIN_CPY_STY_D', 'MIN_GAL_PCT_DF', \n",
    "            'MIN_GAL_STY_D', 'MIN_OTHER_PCT_DF', 'MIN_OTHER_STY_D', \n",
    "            'MIN_OTHER_TYPE_D', 'MIN_PYH_PCT_DF', 'MIN_PYH_STY_D', \n",
    "            'MIN_PY_PCT_DF', 'MIN_PY_STY_D', 'MIN_SPH_PCT_DF', \n",
    "            'MIN_SPH_STY_D', 'STR_STRUCTYPE_D', 'VEIN_PCT_D', \n",
    "            'VEIN_MAT_D', 'VEIN_TYPE_D', 'Wgt_BEST_kg', 'CGRpct', \n",
    "            'Au_ppm', 'Au_ppb', 'Ag_ppm', \n",
    "            'Pb_pct', 'Zn_pct',\n",
    "            'Al_pct', 'As_pct', \n",
    "            'Ba_pct', 'Be_pct', \n",
    "            'Bi_pct', 'B_pct', \n",
    "            'Ca_pct', 'Cd_pct', \n",
    "            'Ce_ppm', 'Co_pct', \n",
    "            'Cr_pct', \n",
    "            'Cs_ppm', 'Cu_pct', \n",
    "            'Fe_pct', \n",
    "            'Ga_pct', 'Gd_ppm', \n",
    "            'Ge_pct', \n",
    "            'Hf_ppm', 'Hg_pct', \n",
    "            'In_pct', \n",
    "            'K_pct', 'La_pct', \n",
    "            'Li_pct', 'Mg_pct', \n",
    "            'Mn_pct', 'Mo_pct', \n",
    "            'Na_pct', 'Nb_pct', \n",
    "            'Ni_pct', 'Pd_pct',\n",
    "            'Pt_pct', 'P_pct', \n",
    "            'Rb_pct', 'Re_BEST_ppm', \n",
    "            'S_pct', 'Sb_pct', \n",
    "            'Sc_pct', 'Se_ppm', \n",
    "            'Sn_pct', 'Sr_pct', \n",
    "            'Ta_pct', 'Te_pct','Th_pct', 'Ti_pct', 'Tl_pct', \n",
    "            'U_pct', 'V_pct', 'W_pct', 'Y_pct', 'Zr_pct',\n",
    "            'CO2_pct', 'C_OR_pct', 'C_TO_pct','SO4_pct', \n",
    "            'SS_pct', 'S_TO_pct']]\n",
    "\n",
    "print(db_2.shape)"
   ]
  },
  {
   "cell_type": "code",
   "execution_count": 9,
   "metadata": {},
   "outputs": [],
   "source": [
    "db_2.to_csv('test_3_tab.csv', index=True, header=True, sep='\\t')"
   ]
  },
  {
   "cell_type": "code",
   "execution_count": 10,
   "metadata": {},
   "outputs": [
    {
     "ename": "AttributeError",
     "evalue": "'DataFrame' object has no attribute 'savetxt'",
     "output_type": "error",
     "traceback": [
      "\u001b[0;31m---------------------------------------------------------------------------\u001b[0m",
      "\u001b[0;31mAttributeError\u001b[0m                            Traceback (most recent call last)",
      "\u001b[0;32m<ipython-input-10-5c322656257c>\u001b[0m in \u001b[0;36m<module>\u001b[0;34m\u001b[0m\n\u001b[0;32m----> 1\u001b[0;31m \u001b[0mdb_2\u001b[0m\u001b[0;34m.\u001b[0m\u001b[0msavetxt\u001b[0m\u001b[0;34m(\u001b[0m\u001b[0;34m'test_3_tab.txt'\u001b[0m\u001b[0;34m,\u001b[0m \u001b[0mdelimiter\u001b[0m \u001b[0;34m=\u001b[0m\u001b[0;34m'\\t'\u001b[0m\u001b[0;34m)\u001b[0m\u001b[0;34m\u001b[0m\u001b[0;34m\u001b[0m\u001b[0m\n\u001b[0m",
      "\u001b[0;32m/opt/conda/envs/pyGEOL/lib/python3.7/site-packages/pandas/core/generic.py\u001b[0m in \u001b[0;36m__getattr__\u001b[0;34m(self, name)\u001b[0m\n\u001b[1;32m   5272\u001b[0m             \u001b[0;32mif\u001b[0m \u001b[0mself\u001b[0m\u001b[0;34m.\u001b[0m\u001b[0m_info_axis\u001b[0m\u001b[0;34m.\u001b[0m\u001b[0m_can_hold_identifiers_and_holds_name\u001b[0m\u001b[0;34m(\u001b[0m\u001b[0mname\u001b[0m\u001b[0;34m)\u001b[0m\u001b[0;34m:\u001b[0m\u001b[0;34m\u001b[0m\u001b[0;34m\u001b[0m\u001b[0m\n\u001b[1;32m   5273\u001b[0m                 \u001b[0;32mreturn\u001b[0m \u001b[0mself\u001b[0m\u001b[0;34m[\u001b[0m\u001b[0mname\u001b[0m\u001b[0;34m]\u001b[0m\u001b[0;34m\u001b[0m\u001b[0;34m\u001b[0m\u001b[0m\n\u001b[0;32m-> 5274\u001b[0;31m             \u001b[0;32mreturn\u001b[0m \u001b[0mobject\u001b[0m\u001b[0;34m.\u001b[0m\u001b[0m__getattribute__\u001b[0m\u001b[0;34m(\u001b[0m\u001b[0mself\u001b[0m\u001b[0;34m,\u001b[0m \u001b[0mname\u001b[0m\u001b[0;34m)\u001b[0m\u001b[0;34m\u001b[0m\u001b[0;34m\u001b[0m\u001b[0m\n\u001b[0m\u001b[1;32m   5275\u001b[0m \u001b[0;34m\u001b[0m\u001b[0m\n\u001b[1;32m   5276\u001b[0m     \u001b[0;32mdef\u001b[0m \u001b[0m__setattr__\u001b[0m\u001b[0;34m(\u001b[0m\u001b[0mself\u001b[0m\u001b[0;34m,\u001b[0m \u001b[0mname\u001b[0m\u001b[0;34m:\u001b[0m \u001b[0mstr\u001b[0m\u001b[0;34m,\u001b[0m \u001b[0mvalue\u001b[0m\u001b[0;34m)\u001b[0m \u001b[0;34m->\u001b[0m \u001b[0;32mNone\u001b[0m\u001b[0;34m:\u001b[0m\u001b[0;34m\u001b[0m\u001b[0;34m\u001b[0m\u001b[0m\n",
      "\u001b[0;31mAttributeError\u001b[0m: 'DataFrame' object has no attribute 'savetxt'"
     ]
    }
   ],
   "source": [
    "db_2.savetxt('test_3_tab.txt', delimiter ='\\t')"
   ]
  },
  {
   "cell_type": "code",
   "execution_count": null,
   "metadata": {},
   "outputs": [],
   "source": []
  }
 ],
 "metadata": {
  "kernelspec": {
   "display_name": "Python 3",
   "language": "python",
   "name": "python3"
  },
  "language_info": {
   "codemirror_mode": {
    "name": "ipython",
    "version": 3
   },
   "file_extension": ".py",
   "mimetype": "text/x-python",
   "name": "python",
   "nbconvert_exporter": "python",
   "pygments_lexer": "ipython3",
   "version": "3.7.6"
  }
 },
 "nbformat": 4,
 "nbformat_minor": 4
}

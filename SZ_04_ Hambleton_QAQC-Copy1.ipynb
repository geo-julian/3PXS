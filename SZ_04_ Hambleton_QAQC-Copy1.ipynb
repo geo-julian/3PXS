{
 "cells": [
  {
   "cell_type": "code",
   "execution_count": 69,
   "metadata": {},
   "outputs": [
    {
     "name": "stdout",
     "output_type": "stream",
     "text": [
      "(56, 135)\n",
      "['OBJECTID', 'Easting', 'Northing', 'Name', 'ID', 'sampler', 'physiography', 'slope', 'direction', 'drainage', 'vegetation', 'contamination', 'depth from (cm)', 'depth to (cm)', 'Cl_pct', 'Sand %', 'Gravel %', 'Organic %', 'Pebbles', 'Cobbles', 'B_ppm', 'Notes1', 'dup_pairs', 'Date', 'Duplicate', 'Oxidation', 'Colour', 'GlobalID', 'Si_pct', 'x', 'y', 'Sample_Number', 'SAMPLE_ID_DUP', 'Au_ppb', 'Ag_ppm', 'Cu_ppm', 'Pb_ppm', 'Zn_ppm', 'Ni_ppm', 'Co_ppm', 'As_ppm', 'W_ppm', 'Hg_ppm', 'Mo_ppm', 'Sb_ppm', 'U_ppm', 'Sn_pct', 'Cd_ppm', 'S_pct', 'Al_pct', 'Ba_ppm', 'Be_ppm', 'Bi_ppm', 'Br_ppm', 'Ca_pct', 'Cr_ppm', 'Cs_ppm', 'Eu_ppm', 'Fe_pct', 'Hf_ppm', 'Ir_ppb', 'K_pct', 'Li_ppm', 'Mg_pct', 'Mn_ppm', 'Na_pct', 'P_pct', 'Rb_ppm', 'Sc_ppm', 'Se_ppm', 'Sr_ppm', 'Ta_ppm', 'Ti_pct', 'Th_ppm', 'V_ppm', 'Y_ppm', 'La_ppm', 'Ce_ppm', 'Nd_ppm', 'Sm_ppm', 'Tb_ppm', 'Yb_ppm', 'Lu_ppm', 'Mass_g', 'Au_ppb_d', 'Ag_ppm_d', 'Cu_ppm_d', 'Pb_ppm_d', 'Zn_ppm_d', 'Ni_ppm_d', 'Co_ppm_d', 'As_ppm_d', 'W_ppm_d', 'Hg_ppm_d', 'Mo_ppm_d', 'Sb_ppm_d', 'U_ppm_d', 'Sn_pct_d', 'Cd_ppm_d', 'S_pct_d', 'Al_pct_d', 'Ba_ppm_d', 'Be_ppm_d', 'Bi_ppm_d', 'Br_ppm_d', 'Ca_pct_d', 'Cr_ppm_d', 'Cs_ppm_d', 'Eu_ppm_d', 'Fe_pct_d', 'Hf_ppm_d', 'Ir_ppb_d', 'K_pct_d', 'Li_ppm_d', 'Mg_pct_d', 'Mn_ppm_d', 'Na_pct_d', 'P_pct_d', 'Rb_ppm_d', 'Sc_ppm_d', 'Se_ppm_d', 'Sr_ppm_d', 'Ta_ppm_d', 'Ti_pct_d', 'Th_ppm_d', 'V_ppm_d', 'Y_ppm_d', 'La_ppm_d', 'Ce_ppm_d', 'Nd_ppm_d', 'Sm_ppm_d', 'Tb_ppm_d', 'Yb_ppm_d', 'Lu_ppm_d', 'Mass_g_d']\n"
     ]
    }
   ],
   "source": [
    "import numpy as np\n",
    "import pandas as pd\n",
    "import sys\n",
    "\n",
    "\n",
    "# db = pd.read_csv('append.csv', sep=',', header=0, \\\n",
    "#                  dtype={'SAMPLE_ID': object, 'ALT_Arg': object, 'ALT_Sil': object, 'MN_Min1_Style': object, 'MIN1': object, \\\n",
    "#                         'MN_MinOxState': object, 'MN_Ox1_Color': object, 'MN_Ox1_ColorMod': object, 'MN_Ox1_Gsize': object,\\\n",
    "#                         'MN_Sulfide_1': object, 'MN_Sulfide_1_Gsize': object, 'MN_Sulfide_1_Style': object, \\\n",
    "#                         'ST_Type': object, 'VN_Style': object, 'LTFORM':object, 'Formation':object}, \\\n",
    "#                  keep_default_na=True, na_filter=True, engine = 'python')\n",
    "\n",
    "db = pd.read_csv('Nov_26_Soils_2018_Hambleton_DUP_3_JDiaz.csv', sep=',', header=0, keep_default_na=False, na_filter=True, engine = 'python')\n",
    "                 \n",
    "print(db.shape)\n",
    "print(list(db.columns.values))\n",
    "\n"
   ]
  },
  {
   "cell_type": "code",
   "execution_count": 70,
   "metadata": {},
   "outputs": [
    {
     "name": "stdout",
     "output_type": "stream",
     "text": [
      "['OBJECTID', 'Easting', 'Northing', 'Name', 'ID', 'sampler', 'physiography', 'slope', 'direction', 'drainage', 'vegetation', 'contamination', 'depth from (cm)', 'depth to (cm)', 'Cl_pct', 'Sand %', 'Gravel %', 'Organic %', 'Pebbles', 'Cobbles', 'B_ppm', 'Notes1', 'dup_pairs', 'Date', 'Duplicate', 'Oxidation', 'Colour', 'GlobalID', 'Si_pct', 'x', 'y', 'Sample_Number', 'SAMPLE_ID_DUP', 'Au_ppb', 'Ag_ppm', 'Cu_ppm', 'Pb_ppm', 'Zn_ppm', 'Ni_ppm', 'Co_ppm', 'As_ppm', 'W_ppm', 'Hg_ppm', 'Mo_ppm', 'Sb_ppm', 'U_ppm', 'Sn_pct', 'Cd_ppm', 'S_pct', 'Al_pct', 'Ba_ppm', 'Be_ppm', 'Bi_ppm', 'Br_ppm', 'Ca_pct', 'Cr_ppm', 'Cs_ppm', 'Eu_ppm', 'Fe_pct', 'Hf_ppm', 'Ir_ppb', 'K_pct', 'Li_ppm', 'Mg_pct', 'Mn_ppm', 'Na_pct', 'P_pct', 'Rb_ppm', 'Sc_ppm', 'Se_ppm', 'Sr_ppm', 'Ta_ppm', 'Ti_pct', 'Th_ppm', 'V_ppm', 'Y_ppm', 'La_ppm', 'Ce_ppm', 'Nd_ppm', 'Sm_ppm', 'Tb_ppm', 'Yb_ppm', 'Lu_ppm', 'Mass_g', 'Au_ppb_d', 'Ag_ppm_d', 'Cu_ppm_d', 'Pb_ppm_d', 'Zn_ppm_d', 'Ni_ppm_d', 'Co_ppm_d', 'As_ppm_d', 'W_ppm_d', 'Hg_ppm_d', 'Mo_ppm_d', 'Sb_ppm_d', 'U_ppm_d', 'Sn_pct_d', 'Cd_ppm_d', 'S_pct_d', 'Al_pct_d', 'Ba_ppm_d', 'Be_ppm_d', 'Bi_ppm_d', 'Br_ppm_d', 'Ca_pct_d', 'Cr_ppm_d', 'Cs_ppm_d', 'Eu_ppm_d', 'Fe_pct_d', 'Hf_ppm_d', 'Ir_ppb_d', 'K_pct_d', 'Li_ppm_d', 'Mg_pct_d', 'Mn_ppm_d', 'Na_pct_d', 'P_pct_d', 'Rb_ppm_d', 'Sc_ppm_d', 'Se_ppm_d', 'Sr_ppm_d', 'Ta_ppm_d', 'Ti_pct_d', 'Th_ppm_d', 'V_ppm_d', 'Y_ppm_d', 'La_ppm_d', 'Ce_ppm_d', 'Nd_ppm_d', 'Sm_ppm_d', 'Tb_ppm_d', 'Yb_ppm_d', 'Lu_ppm_d', 'Mass_g_d', 'Au_ppb_MPRD', 'Ag_ppm_MPRD', 'Cu_ppm_MPRD', 'Pb_ppm_MPRD', 'Zn_ppm_MPRD', 'Ni_ppm_MPRD', 'Co_ppm_MPRD', 'As_ppm_MPRD', 'W_ppm_MPRD', 'Hg_ppm_MPRD', 'Mo_ppm_MPRD', 'Sb_ppm_MPRD', 'U_ppm_MPRD', 'Sn_pct_MPRD', 'Cd_ppm_MPRD', 'S_pct_MPRD', 'Al_pct_MPRD', 'Ba_ppm_MPRD', 'Be_ppm_MPRD', 'Bi_ppm_MPRD', 'Br_ppm_MPRD', 'Ca_pct_MPRD', 'Cr_ppm_MPRD', 'Cs_ppm_MPRD', 'Eu_ppm_MPRD', 'Fe_pct_MPRD', 'Hf_ppm_MPRD', 'Ir_ppb_MPRD', 'K_pct_MPRD', 'Li_ppm_MPRD', 'Mg_pct_MPRD', 'Mn_ppm_MPRD', 'Na_pct_MPRD', 'P_pct_MPRD', 'Rb_ppm_MPRD', 'Sc_ppm_MPRD', 'Se_ppm_MPRD', 'Sr_ppm_MPRD', 'Ta_ppm_MPRD', 'Ti_pct_MPRD', 'Th_ppm_MPRD', 'V_ppm_MPRD', 'Y_ppm_MPRD', 'La_ppm_MPRD', 'Ce_ppm_MPRD', 'Nd_ppm_MPRD', 'Sm_ppm_MPRD', 'Tb_ppm_MPRD', 'Yb_ppm_MPRD', 'Lu_ppm_MPRD']\n"
     ]
    }
   ],
   "source": [
    "\n",
    "db['Au_ppb_MPRD'] = (db['Au_ppb'] - db['Au_ppb_d']) / db[['Au_ppb', 'Au_ppb_d']].mean(axis=1)\n",
    "db['Ag_ppm_MPRD'] = (db['Ag_ppm'] - db['Ag_ppm_d']) / db[['Ag_ppm', 'Ag_ppm_d']].mean(axis=1)\n",
    "db['Cu_ppm_MPRD'] = (db['Cu_ppm'] - db['Cu_ppm_d']) / db[['Cu_ppm', 'Cu_ppm_d']].mean(axis=1)\n",
    "db['Pb_ppm_MPRD'] = (db['Pb_ppm'] - db['Pb_ppm_d']) / db[['Pb_ppm', 'Pb_ppm_d']].mean(axis=1)\n",
    "db['Zn_ppm_MPRD'] = (db['Zn_ppm'] - db['Zn_ppm_d']) / db[['Zn_ppm', 'Zn_ppm_d']].mean(axis=1)\n",
    "db['Ag_ppm_MPRD'] = (db['Ag_ppm'] - db['Ag_ppm_d']) / db[['Ag_ppm', 'Ag_ppm_d']].mean(axis=1)\n",
    "db['Ni_ppm_MPRD'] = (db['Ni_ppm'] - db['Ni_ppm_d']) / db[['Ni_ppm', 'Ni_ppm_d']].mean(axis=1)\n",
    "db['Co_ppm_MPRD'] = (db['Co_ppm'] - db['Co_ppm_d']) / db[['Co_ppm', 'Co_ppm_d']].mean(axis=1)\n",
    "db['As_ppm_MPRD'] = (db['As_ppm'] - db['As_ppm_d']) / db[['As_ppm', 'As_ppm_d']].mean(axis=1)\n",
    "db['W_ppm_MPRD'] = (db['W_ppm'] - db['W_ppm_d']) / db[['W_ppm', 'W_ppm_d']].mean(axis=1)\n",
    "db['Hg_ppm_MPRD'] = (db['Hg_ppm'] - db['Hg_ppm_d']) / db[['Hg_ppm', 'Hg_ppm_d']].mean(axis=1)\n",
    "db['Mo_ppm_MPRD'] = (db['Mo_ppm'] - db['Mo_ppm_d']) / db[['Mo_ppm', 'Mo_ppm_d']].mean(axis=1)\n",
    "db['Sb_ppm_MPRD'] = (db['Sb_ppm'] - db['Sb_ppm_d']) / db[['Sb_ppm', 'Sb_ppm_d']].mean(axis=1)\n",
    "db['U_ppm_MPRD'] = (db['U_ppm'] - db['U_ppm_d']) / db[['U_ppm', 'U_ppm_d']].mean(axis=1)\n",
    "db['Sn_pct_MPRD'] = (db['Sn_pct'] - db['Sn_pct_d']) / db[['Sn_pct', 'Sn_pct_d']].mean(axis=1)\n",
    "db['Cd_ppm_MPRD'] = (db['Cd_ppm'] - db['Cd_ppm_d']) / db[['Cd_ppm', 'Cd_ppm_d']].mean(axis=1)\n",
    "db['S_pct_MPRD'] = (db['S_pct'] - db['S_pct_d']) / db[['S_pct', 'S_pct_d']].mean(axis=1)\n",
    "db['Al_pct_MPRD'] = (db['Al_pct'] - db['Al_pct_d']) / db[['Al_pct', 'Al_pct_d']].mean(axis=1)\n",
    "db['Ba_ppm_MPRD'] = (db['Ba_ppm'] - db['Ba_ppm_d']) / db[['Ba_ppm', 'Ba_ppm_d']].mean(axis=1)\n",
    "db['Be_ppm_MPRD'] = (db['Be_ppm'] - db['Be_ppm_d']) / db[['Be_ppm', 'Be_ppm_d']].mean(axis=1)\n",
    "db['Bi_ppm_MPRD'] = (db['Bi_ppm'] - db['Bi_ppm_d']) / db[['Bi_ppm', 'Bi_ppm_d']].mean(axis=1)\n",
    "db['Br_ppm_MPRD'] = (db['Br_ppm'] - db['Br_ppm_d']) / db[['Br_ppm', 'Br_ppm_d']].mean(axis=1)\n",
    "db['Ca_pct_MPRD'] = (db['Ca_pct'] - db['Ca_pct_d']) / db[['Ca_pct', 'Ca_pct_d']].mean(axis=1)\n",
    "db['Cr_ppm_MPRD'] = (db['Cr_ppm'] - db['Cr_ppm_d']) / db[['Cr_ppm', 'Cr_ppm_d']].mean(axis=1)\n",
    "db['Cs_ppm_MPRD'] = (db['Cs_ppm'] - db['Cs_ppm_d']) / db[['Cs_ppm', 'Cs_ppm_d']].mean(axis=1)\n",
    "db['Eu_ppm_MPRD'] = (db['Eu_ppm'] - db['Eu_ppm_d']) / db[['Eu_ppm', 'Eu_ppm_d']].mean(axis=1)\n",
    "db['Fe_pct_MPRD'] = (db['Fe_pct'] - db['Fe_pct_d']) / db[['Fe_pct', 'Fe_pct_d']].mean(axis=1)\n",
    "db['Hf_ppm_MPRD'] = (db['Hf_ppm'] - db['Hf_ppm_d']) / db[['Hf_ppm', 'Hf_ppm_d']].mean(axis=1)\n",
    "db['Ir_ppb_MPRD'] = (db['Ir_ppb'] - db['Ir_ppb_d']) / db[['Ir_ppb', 'Ir_ppb_d']].mean(axis=1)\n",
    "db['K_pct_MPRD'] = (db['K_pct'] - db['K_pct_d']) / db[['K_pct', 'K_pct_d']].mean(axis=1)\n",
    "db['Li_ppm_MPRD'] = (db['Li_ppm'] - db['Li_ppm_d']) / db[['Li_ppm', 'Li_ppm_d']].mean(axis=1)\n",
    "db['Mg_pct_MPRD'] = (db['Mg_pct'] - db['Mg_pct_d']) / db[['Mg_pct', 'Mg_pct_d']].mean(axis=1)\n",
    "db['Mn_ppm_MPRD'] = (db['Mn_ppm'] - db['Mn_ppm_d']) / db[['Mn_ppm', 'Mn_ppm_d']].mean(axis=1)\n",
    "db['Na_pct_MPRD'] = (db['Na_pct'] - db['Na_pct_d']) / db[['Na_pct', 'Na_pct_d']].mean(axis=1)\n",
    "db['P_pct_MPRD'] = (db['P_pct'] - db['P_pct_d']) / db[['P_pct', 'P_pct_d']].mean(axis=1)\n",
    "db['Rb_ppm_MPRD'] = (db['Rb_ppm'] - db['Rb_ppm_d']) / db[['Rb_ppm', 'Rb_ppm_d']].mean(axis=1)\n",
    "db['Sc_ppm_MPRD'] = (db['Sc_ppm'] - db['Sc_ppm_d']) / db[['Sc_ppm', 'Sc_ppm_d']].mean(axis=1)\n",
    "db['Se_ppm_MPRD'] = (db['Se_ppm'] - db['Se_ppm_d']) / db[['Se_ppm', 'Se_ppm_d']].mean(axis=1)\n",
    "db['Sr_ppm_MPRD'] = (db['Sr_ppm'] - db['Sr_ppm_d']) / db[['Sr_ppm', 'Sr_ppm_d']].mean(axis=1)\n",
    "db['Ta_ppm_MPRD'] = (db['Ta_ppm'] - db['Ta_ppm_d']) / db[['Ta_ppm', 'Ta_ppm_d']].mean(axis=1)\n",
    "db['Ti_pct_MPRD'] = (db['Ti_pct'] - db['Ti_pct_d']) / db[['Ti_pct', 'Ti_pct_d']].mean(axis=1)\n",
    "db['Th_ppm_MPRD'] = (db['Th_ppm'] - db['Th_ppm_d']) / db[['Th_ppm', 'Th_ppm_d']].mean(axis=1)\n",
    "db['V_ppm_MPRD'] = (db['V_ppm'] - db['V_ppm_d']) / db[['V_ppm', 'V_ppm_d']].mean(axis=1)\n",
    "db['Y_ppm_MPRD'] = (db['Y_ppm'] - db['Y_ppm_d']) / db[['Y_ppm', 'Y_ppm_d']].mean(axis=1)\n",
    "db['La_ppm_MPRD'] = (db['La_ppm'] - db['La_ppm_d']) / db[['La_ppm', 'La_ppm_d']].mean(axis=1)\n",
    "db['Ce_ppm_MPRD'] = (db['Ce_ppm'] - db['Ce_ppm_d']) / db[['Ce_ppm', 'Ce_ppm_d']].mean(axis=1)\n",
    "db['Nd_ppm_MPRD'] = (db['Nd_ppm'] - db['Nd_ppm_d']) / db[['Nd_ppm', 'Nd_ppm_d']].mean(axis=1)\n",
    "db['Sm_ppm_MPRD'] = (db['Sm_ppm'] - db['Sm_ppm_d']) / db[['Sm_ppm', 'Sm_ppm_d']].mean(axis=1)\n",
    "db['Tb_ppm_MPRD'] = (db['Tb_ppm'] - db['Tb_ppm_d']) / db[['Tb_ppm', 'Tb_ppm_d']].mean(axis=1)\n",
    "db['Yb_ppm_MPRD'] = (db['Yb_ppm'] - db['Yb_ppm_d']) / db[['Yb_ppm', 'Yb_ppm_d']].mean(axis=1)\n",
    "db['Lu_ppm_MPRD'] = (db['Lu_ppm'] - db['Lu_ppm_d']) / db[['Lu_ppm', 'Lu_ppm_d']].mean(axis=1)\n",
    "\n",
    "\n",
    "print(list(db.columns.values))\n",
    "db.to_csv('Nov_26_Soils_2018_Hambleton_DUP_MPRD_JDiaz.csv', index=True)"
   ]
  },
  {
   "cell_type": "code",
   "execution_count": 68,
   "metadata": {},
   "outputs": [],
   "source": [
    "db.to_csv('Nov_26_Soils_2018_Hambleton_DUP_4_JDiaz.csv', index=True)\n"
   ]
  },
  {
   "cell_type": "code",
   "execution_count": 45,
   "metadata": {},
   "outputs": [
    {
     "data": {
      "text/plain": [
       "array(['1', '2', '3', '4', '5', '6', '7', '8', '9', '10', '11', '12',\n",
       "       '13', '14', '15', '16', '17', '18', '19', '20', '21', '22', '23',\n",
       "       '24', '25', '26', '27', '28', '29', '30', '31', '32', '33', '34',\n",
       "       '35', '36', '37', '38', '39', '40', '41', '42', '43', '44', '45',\n",
       "       '46', '47', '48', '49', '50', '51', '52', '53', '54', '55', '56'],\n",
       "      dtype=object)"
      ]
     },
     "execution_count": 45,
     "metadata": {},
     "output_type": "execute_result"
    }
   ],
   "source": [
    "db.dup_pairs.unique()"
   ]
  },
  {
   "cell_type": "code",
   "execution_count": 51,
   "metadata": {},
   "outputs": [
    {
     "name": "stderr",
     "output_type": "stream",
     "text": [
      "/opt/conda/envs/pyGEOL/lib/python3.7/site-packages/ipykernel_launcher.py:18: SettingWithCopyWarning: \n",
      "A value is trying to be set on a copy of a slice from a DataFrame.\n",
      "Try using .loc[row_indexer,col_indexer] = value instead\n",
      "\n",
      "See the caveats in the documentation: https://pandas.pydata.org/pandas-docs/stable/user_guide/indexing.html#returning-a-view-versus-a-copy\n"
     ]
    }
   ],
   "source": [
    "# db_1 = db[db['dup_pairs'] == '1']\n",
    "# print(db_1.shape)\n",
    "\n",
    "\n",
    "# for dup in range(1,57):\n",
    "#     db = pd.read_csv('Nov_25_Soils_2018_Hambleton_DUP_JDiaz.csv', sep=',', header=0, dtype=object, keep_default_na=False, na_filter=True, engine = 'python')\n",
    "#     db = db[db['dup_pairs'] == str(dup)]\n",
    "#     db_1 = db.loc[:, 'Duplicate', 'Yes']\n",
    "#     db_1 = db[db['Duplicate'] == 'Yes']\n",
    "#     db_2 = db[db['Duplicate'] != 'Yes']\n",
    "#     db_2['Au_ppb_dup'] = db_1['Au_ppb']\n",
    "#     db_2.to_csv('dup/dup_case_'+str(dup)+'.csv', index=True)\n",
    "  \n",
    "db = pd.read_csv('Nov_25_Soils_2018_Hambleton_DUP_JDiaz.csv', sep=',', header=0, dtype=object, keep_default_na=False, na_filter=True, engine = 'python')\n",
    "db = db[db['dup_pairs'] == '1']\n",
    "db_1 = db[db['Duplicate'] == 'Yes']\n",
    "db_2 = db[db['Duplicate'] != 'Yes']\n",
    "db_2['Au_ppb_dup'] = db_2['Au_ppb']\n",
    "#db_2.to_csv('dup/dup_case_'+str(dup)+'.csv', index=True)\n",
    "db_2.to_csv('dup/dup_case_.csv', index=True)\n",
    "\n",
    "    \n",
    "\n",
    "#print(db_1['Au_ppb'])\n",
    "#     print(db_2['Au_ppb'])\n",
    "    \n",
    "    \n",
    "#     db_2 = db[db['Duplicate'] != 'Yes'] \n",
    "#     db_1['Au_ppb_dup'] = db_2['Au_ppb']\n",
    "#     db_1.to_csv('dup/dup_case_'+str(dup)+'.csv', index=True)\n",
    "  \n",
    "        \n",
    "    \n",
    "    "
   ]
  },
  {
   "cell_type": "code",
   "execution_count": 6,
   "metadata": {},
   "outputs": [
    {
     "name": "stdout",
     "output_type": "stream",
     "text": [
      "['OBJECTID', 'Easting', 'Northing', 'Name', 'ID', 'sampler', 'physiography', 'slope', 'direction', 'drainage', 'vegetation', 'contamination', 'depth from (cm)', 'depth to (cm)', 'Clay %', 'Sand %', 'Gravel %', 'Organic %', 'Other %', 'Pebbles', 'Cobbles', 'Boulders', 'Notes1', 'Notes2', 'Date', 'Duplicate', 'Oxidation', 'Colour', 'GlobalID', 'Silt %', 'x', 'y', 'Sample_Number', 'Au_ppb', 'Au_ppb_dup', 'Au_ppb_MPRD', 'Ag_ppm', 'Ag_ppm_dup', 'Ag_ppm_MPRD', 'Cu_ppm', 'Cu_ppm_dup', 'Cu_ppm_MPRD', 'Pb_ppm', 'Pb_ppm_dup', 'Pb_ppm_MPRD', 'Zn_ppm', 'Zn_ppm_dup', 'Zn_ppm_MPRD', 'Ni_ppm', 'Ni_ppm_dup', 'Ni_ppm_MPRD', 'Co_ppm', 'Co_ppm_dup', 'Co_ppm_MPRD', 'As_ppm', 'As_ppm_dup', 'As_ppm_MPRD', 'W_ppm', 'W_ppm_dup', 'W_ppm_MPRD', 'Hg_ppm', 'Hg_ppm_dup', 'Hg_ppm_MPRD', 'Mo_ppm', 'Mo_ppm_dup', 'Mo_ppm_MPRD', 'Sb_ppm', 'Sb_ppm_dup', 'Sb_ppm_MPRD', 'U_ppm', 'U_ppm_dup', 'U_ppm_MPRD', 'Sn_pct', 'Sn_pct_dup', 'Sn_pct_MPRD', 'Cd_ppm', 'Cd_ppm_dup', 'Cd_ppm_MPRD', 'S_pct', 'S_pct_dup', 'S_pct_MPRD', 'Al_pct', 'Al_pct_dup', 'Al_pct_MPRD', 'Ba_ppm', 'Ba_ppm_dup', 'Ba_ppm_MPRD', 'Be_ppm', 'Be_ppm_dup', 'Be_ppm_MPRD', 'Be_ppm', 'Be_ppm_dup', 'Be_ppm_MPRD', 'Br_ppm', 'Br_ppm_dup', 'Br_ppm_MPRD', 'Ca_pct', 'Ca_pct_dup', 'Ca_pct_MPRD', 'Cr_ppm', 'Cr_ppm_dup', 'Cr_ppm_MPRD', 'Cs_ppm', 'Cs_ppm_dup', 'Cs_ppm_MPRD', 'Eu_ppm', 'Eu_ppm_dup', 'Eu_ppm_MPRD', 'Fe_pct', 'Fe_pct_dup', 'Fe_pct_MPRD', 'Hf_ppm', 'Hf_ppm_dup', 'Hf_ppm_MPRD', 'Ir_ppb', 'Ir_ppb_dup', 'Ir_ppb_MPRD', 'K_pct', 'K_pct_dup', 'K_pct_MPRD', 'Li_ppm', 'Li_ppm_dup', 'Li_ppm_MPRD', 'Mg_pct', 'Mg_pct_dup', 'Mg_pct_MPRD', 'Mn_ppm', 'Mn_ppm_dup', 'Mn_ppm_MPRD', 'Na_pct', 'Na_pct_dup', 'Na_pct_MPRD', 'P_pct', 'P_pct_dup', 'P_pct_MPRD', 'Rb_ppm', 'Rb_ppm_dup', 'Rb_ppm_MPRD', 'Sc_ppm', 'Sc_ppm_dup', 'Sc_ppm_MPRD', 'Se_ppm', 'Se_ppm_dup', 'Se_ppm_MPRD', 'Sr_ppm', 'Sr_ppm_dup', 'Sr_ppm_MPRD', 'Ta_ppm', 'Ta_ppm_dup', 'Ta_ppm_MPRD', 'Ti_pct', 'Ti_pct_dup', 'Ti_pct_MPRD', 'Th_ppm', 'Th_ppm_dup', 'Th_ppm_MPRD', 'V_ppm', 'V_ppm_dup', 'V_ppm_MPRD', 'Y_ppm', 'Y_ppm_dup', 'Y_ppm_MPRD', 'La_ppm', 'La_ppm_dup', 'La_ppm_MPRD', 'Ce_ppm', 'Ce_ppm_dup', 'Ce_ppm_MPRD', 'Nd_ppm', 'Nd_ppm_dup', 'Nd_ppm_MPRD', 'Sm_ppm', 'Sm_ppm_dup', 'Sm_ppm_MPRD', 'Tb_ppm', 'Tb_ppm_dup', 'Tb_ppm_MPRD', 'Yb_ppm', 'Yb_ppm_dup', 'Yb_ppm_MPRD', 'Lu_ppm', 'Lu_ppm_dup', 'Lu_ppm_MPRD', 'Mass_g']\n"
     ]
    }
   ],
   "source": [
    "column_names = ['OBJECTID', 'Easting', 'Northing', 'Name', 'ID', 'sampler', 'physiography', \n",
    "              'slope', 'direction', 'drainage', 'vegetation', 'contamination', \n",
    "              'depth from (cm)', 'depth to (cm)', 'Clay %', 'Sand %', 'Gravel %', 'Organic %', \n",
    "              'Other %', 'Pebbles', 'Cobbles', 'Boulders', 'Notes1', 'Notes2', 'Date', \n",
    "              'Duplicate', 'Oxidation', 'Colour', 'GlobalID', 'Silt %', 'x', 'y', 'Sample_Number', \n",
    "              'Au_ppb', 'Au_ppb_dup','Au_ppb_MPRD',\n",
    "              'Ag_ppm', 'Ag_ppm_dup','Ag_ppm_MPRD',\n",
    "              'Cu_ppm', 'Cu_ppm_dup','Cu_ppm_MPRD',\n",
    "              'Pb_ppm', 'Pb_ppm_dup','Pb_ppm_MPRD',\n",
    "              'Zn_ppm', 'Zn_ppm_dup','Zn_ppm_MPRD',\n",
    "              'Ni_ppm', 'Ni_ppm_dup','Ni_ppm_MPRD',\n",
    "              'Co_ppm', 'Co_ppm_dup','Co_ppm_MPRD',\n",
    "              'As_ppm', 'As_ppm_dup','As_ppm_MPRD',\n",
    "              'W_ppm', 'W_ppm_dup','W_ppm_MPRD',\n",
    "              'Hg_ppm', 'Hg_ppm_dup','Hg_ppm_MPRD',\n",
    "              'Mo_ppm', 'Mo_ppm_dup','Mo_ppm_MPRD',\n",
    "              'Sb_ppm', 'Sb_ppm_dup','Sb_ppm_MPRD',\n",
    "              'U_ppm', 'U_ppm_dup','U_ppm_MPRD',\n",
    "              'Sn_pct', 'Sn_pct_dup','Sn_pct_MPRD',\n",
    "              'Cd_ppm', 'Cd_ppm_dup','Cd_ppm_MPRD',\n",
    "              'S_pct', 'S_pct_dup','S_pct_MPRD',\n",
    "              'Al_pct', 'Al_pct_dup','Al_pct_MPRD',\n",
    "              'Ba_ppm', 'Ba_ppm_dup','Ba_ppm_MPRD',\n",
    "              'Be_ppm', 'Be_ppm_dup','Be_ppm_MPRD',\n",
    "              'Be_ppm', 'Be_ppm_dup','Be_ppm_MPRD',\n",
    "              'Br_ppm', 'Br_ppm_dup','Br_ppm_MPRD', \n",
    "              'Ca_pct', 'Ca_pct_dup','Ca_pct_MPRD',\n",
    "              'Cr_ppm', 'Cr_ppm_dup','Cr_ppm_MPRD',\n",
    "              'Cs_ppm', 'Cs_ppm_dup','Cs_ppm_MPRD',\n",
    "              'Eu_ppm', 'Eu_ppm_dup','Eu_ppm_MPRD', \n",
    "              'Fe_pct', 'Fe_pct_dup','Fe_pct_MPRD',\n",
    "              'Hf_ppm', 'Hf_ppm_dup','Hf_ppm_MPRD',\n",
    "              'Ir_ppb', 'Ir_ppb_dup','Ir_ppb_MPRD',\n",
    "              'K_pct', 'K_pct_dup','K_pct_MPRD',\n",
    "              'Li_ppm', 'Li_ppm_dup','Li_ppm_MPRD',\n",
    "              'Mg_pct', 'Mg_pct_dup','Mg_pct_MPRD',\n",
    "              'Mn_ppm', 'Mn_ppm_dup','Mn_ppm_MPRD',\n",
    "              'Na_pct', 'Na_pct_dup','Na_pct_MPRD',\n",
    "              'P_pct', 'P_pct_dup','P_pct_MPRD',\n",
    "              'Rb_ppm', 'Rb_ppm_dup','Rb_ppm_MPRD',\n",
    "              'Sc_ppm', 'Sc_ppm_dup','Sc_ppm_MPRD',\n",
    "              'Se_ppm', 'Se_ppm_dup','Se_ppm_MPRD',\n",
    "              'Sr_ppm', 'Sr_ppm_dup','Sr_ppm_MPRD',\n",
    "              'Ta_ppm', 'Ta_ppm_dup','Ta_ppm_MPRD',\n",
    "              'Ti_pct', 'Ti_pct_dup','Ti_pct_MPRD', \n",
    "              'Th_ppm', 'Th_ppm_dup','Th_ppm_MPRD',\n",
    "              'V_ppm', 'V_ppm_dup', 'V_ppm_MPRD',\n",
    "              'Y_ppm', 'Y_ppm_dup','Y_ppm_MPRD',\n",
    "              'La_ppm', 'La_ppm_dup','La_ppm_MPRD',\n",
    "              'Ce_ppm', 'Ce_ppm_dup','Ce_ppm_MPRD',\n",
    "              'Nd_ppm', 'Nd_ppm_dup','Nd_ppm_MPRD',\n",
    "              'Sm_ppm', 'Sm_ppm_dup','Sm_ppm_MPRD',\n",
    "              'Tb_ppm', 'Tb_ppm_dup','Tb_ppm_MPRD',\n",
    "              'Yb_ppm', 'Yb_ppm_dup','Yb_ppm_MPRD',\n",
    "              'Lu_ppm', 'Lu_ppm_dup','Lu_ppm_MPRD',\n",
    "              'Mass_g']\n",
    "\n",
    "df = pd.DataFrame(columns = column_names)\n",
    "\n",
    "# db \n",
    "\n",
    "# db = pd.concat([db, df])\n",
    "\n",
    "print(list(df.columns.values))\n"
   ]
  },
  {
   "cell_type": "code",
   "execution_count": 2,
   "metadata": {},
   "outputs": [],
   "source": [
    "db.columns = ['OBJECTID', 'Easting', 'Northing', 'Name', 'ID', 'sampler', 'physiography', \n",
    "              'slope', 'direction', 'drainage', 'vegetation', 'contamination', \n",
    "              'depth from (cm)', 'depth to (cm)', 'Clay %', 'Sand %', 'Gravel %', 'Organic %', \n",
    "              'Other %', 'Pebbles', 'Cobbles', 'Boulders', 'Notes1', 'Notes2', 'Date', \n",
    "              'Duplicate', 'Oxidation', 'Colour', 'GlobalID', 'Silt %', 'x', 'y', 'Sample_Number', \n",
    "              'Au_ppb', \n",
    "              'Ag_ppm', \n",
    "              'Cu_ppm', \n",
    "              'Pb_ppm', \n",
    "              'Zn_ppm', \n",
    "              'Ni_ppm', \n",
    "              'Co_ppm', \n",
    "              'As_ppm', \n",
    "              'W_ppm', \n",
    "              'Hg_ppm', \n",
    "              'Mo_ppm', \n",
    "              'Sb_ppm', \n",
    "              'U_ppm', \n",
    "              'Sn_pct', \n",
    "              'Cd_ppm', \n",
    "              'S_pct', \n",
    "              'Al_pct', \n",
    "              'Ba_ppm', \n",
    "              'Be_ppm', \n",
    "              'Bi_ppm', \n",
    "              'Br_ppm', \n",
    "              'Ca_pct', \n",
    "              'Cr_ppm', \n",
    "              'Cs_ppm', \n",
    "              'Eu_ppm', \n",
    "              'Fe_pct', \n",
    "              'Hf_ppm', \n",
    "              'Ir_ppb', \n",
    "              'K_pct', \n",
    "              'Li_ppm', \n",
    "              'Mg_pct', \n",
    "              'Mn_ppm', \n",
    "              'Na_pct', \n",
    "              'P_pct', \n",
    "              'Rb_ppm', \n",
    "              'Sc_ppm', \n",
    "              'Se_ppm', \n",
    "              'Sr_ppm', \n",
    "              'Ta_ppm', \n",
    "              'Ti_pct', \n",
    "              'Th_ppm', \n",
    "              'V_ppm', \n",
    "              'Y_ppm', \n",
    "              'La_ppm', \n",
    "              'Ce_ppm', \n",
    "              'Nd_ppm', \n",
    "              'Sm_ppm', \n",
    "              'Tb_ppm', \n",
    "              'Yb_ppm', \n",
    "              'Lu_ppm', \n",
    "              'Mass_g']\n",
    "\n",
    "\n",
    "# ['Sample#', 'Date', 'Sampler', 'Easting', 'Northing', 'Zone/Area', 'Rock_Type_Code', \n",
    "#               'Description', 'Comment', \n",
    "#               'Au_ppb', 'Au_ppm_grav', 'Au_ppm_PM', \n",
    "#               'Li_ppm', 'Na_pct', 'Mg_pct', \n",
    "#               'Al_pct', 'K_pct', 'Ca_pct', 'Cd_ppm', 'V_ppm', 'Cr_ppm', \n",
    "#               'Mn ppm', 'Fe_pct', 'Hf_ppm', 'Hg_ppb', 'Ni_ppm', 'Er_ppm', 'Be_ppm', \n",
    "#               'Ho_ppm', 'Ag_ppm', 'Cs_ppm', 'Co_ppm', 'Eu_ppm', 'Bi_ppm', 'Se_ppm', \n",
    "#               'Zn_ppm', 'Ga_ppm', 'As_ppm', 'Rb_ppm', 'Y_ppm', 'Sr_ppm', 'Zr_ppm', \n",
    "#               'Nb_ppm', 'Mo_ppm', 'In_ppm', 'Sn_ppm', 'Sb_ppm', 'Te_ppm', 'Ba_ppm', \n",
    "#               'La_ppm', 'Ce_ppm', 'Pr_ppm', 'Nd_ppm', 'Sm_ppm', 'Gd_ppm', 'Tb_ppm', \n",
    "#               'Dy_ppm', 'Cu_ppm', 'Ge_ppm', 'Tm_ppm', 'Yb_ppm', 'Lu_ppm', 'Ta_ppm', \n",
    "#               'W_ppm', 'Re_ppm', 'Tl_ppm', 'Pb_ppm', 'Sc_ppm', 'Th_ppm', 'U_ppm', \n",
    "#               'Ti_pct', 'P_pct', 'S_pct', 'Pt_unk', 'Pd_unk']\n",
    "\n",
    "db.to_csv('Nov_25_Soils_2018_Hambleton_JDiaz.csv', index=False, header=True)"
   ]
  },
  {
   "cell_type": "code",
   "execution_count": 25,
   "metadata": {},
   "outputs": [],
   "source": [
    "db = pd.read_csv('Nov_25_Soils_2018_Hambleton_JDiaz_mod.csv', sep=',', header=0, dtype=object, keep_default_na=False, na_filter=True, engine = 'python')"
   ]
  },
  {
   "cell_type": "code",
   "execution_count": 26,
   "metadata": {},
   "outputs": [
    {
     "name": "stdout",
     "output_type": "stream",
     "text": [
      "(19, 85)\n"
     ]
    }
   ],
   "source": [
    "db_Oreas250 = db[db['Notes2'] == 'Oreas 250']\n",
    "print(db_Oreas250.shape)"
   ]
  },
  {
   "cell_type": "code",
   "execution_count": 27,
   "metadata": {},
   "outputs": [
    {
     "name": "stdout",
     "output_type": "stream",
     "text": [
      "(19, 85)\n"
     ]
    }
   ],
   "source": [
    "db_Oreas45e = db[db['Notes2'] == 'Oreas 45e']\n",
    "print(db_Oreas45e.shape)"
   ]
  },
  {
   "cell_type": "code",
   "execution_count": 28,
   "metadata": {},
   "outputs": [
    {
     "name": "stdout",
     "output_type": "stream",
     "text": [
      "(18, 85)\n"
     ]
    }
   ],
   "source": [
    "db_blk = db[db['Notes2'] == 'Oreas Blank']\n",
    "print(db_blk.shape)"
   ]
  },
  {
   "cell_type": "code",
   "execution_count": 30,
   "metadata": {},
   "outputs": [
    {
     "name": "stdout",
     "output_type": "stream",
     "text": [
      "(38, 85)\n"
     ]
    }
   ],
   "source": [
    "db_CRM = pd.concat([db_Oreas250, db_Oreas45e])\n",
    "print(db_CRM.shape)"
   ]
  },
  {
   "cell_type": "code",
   "execution_count": 31,
   "metadata": {},
   "outputs": [],
   "source": [
    "db_CRM.to_csv('Nov_25_Soils_2018_Hambleton_CMR_JDiaz.csv', index=False, header=True)\n",
    "db_blk.to_csv('Nov_25_Soils_2018_Hambleton_BLK_JDiaz.csv', index=False, header=True)"
   ]
  },
  {
   "cell_type": "code",
   "execution_count": 22,
   "metadata": {},
   "outputs": [],
   "source": [
    "#db = pd.read_csv('Nov_25_Soils_2018_Hambleton_JDiaz.csv', sep=',', header=0, dtype=object, keep_default_na=False, na_filter=True, engine = 'python')\n",
    " "
   ]
  },
  {
   "cell_type": "code",
   "execution_count": 33,
   "metadata": {},
   "outputs": [
    {
     "name": "stdout",
     "output_type": "stream",
     "text": [
      "(112, 85)\n"
     ]
    }
   ],
   "source": [
    "db_dup = db[db['dup_pairs'] != '']\n",
    "\n",
    "# db_dup_2 = db[db['Notes2'] == 'duplicate']\n",
    "# db_dup_3 = db[db['Notes2'] == 'Duplicate ']\n",
    "# print(db_dup_1.shape)\n",
    "# print(db_dup_2.shape)\n",
    "print(db_dup.shape)\n",
    "db_dup.to_csv('Nov_25_Soils_2018_Hambleton_DUP_JDiaz.csv', index=False, header=True)\n",
    "# db_dup_1 = db_dup.index.unique()\n",
    "# print(db_dup_1)"
   ]
  },
  {
   "cell_type": "code",
   "execution_count": 34,
   "metadata": {},
   "outputs": [
    {
     "name": "stdout",
     "output_type": "stream",
     "text": [
      "(1403, 85)\n",
      "(1384, 85)\n",
      "(1366, 85)\n",
      "(1254, 85)\n"
     ]
    }
   ],
   "source": [
    "db = db[db['Notes2'] != 'Oreas 250']\n",
    "print(db.shape)\n",
    "db = db[db['Notes2'] != 'Oreas 45e']\n",
    "print(db.shape)\n",
    "db = db[db['Notes2'] != 'Oreas Blank']\n",
    "print(db.shape)\n",
    "db = db[db['dup_pairs'] == '']\n",
    "print(db.shape)"
   ]
  },
  {
   "cell_type": "code",
   "execution_count": 35,
   "metadata": {},
   "outputs": [],
   "source": [
    "db.to_csv('Nov_25_Soils_2018_Hambleton_Data_JDiaz.csv', index=False, header=True)"
   ]
  },
  {
   "cell_type": "code",
   "execution_count": null,
   "metadata": {},
   "outputs": [],
   "source": []
  }
 ],
 "metadata": {
  "kernelspec": {
   "display_name": "Python 3",
   "language": "python",
   "name": "python3"
  },
  "language_info": {
   "codemirror_mode": {
    "name": "ipython",
    "version": 3
   },
   "file_extension": ".py",
   "mimetype": "text/x-python",
   "name": "python",
   "nbconvert_exporter": "python",
   "pygments_lexer": "ipython3",
   "version": "3.7.6"
  }
 },
 "nbformat": 4,
 "nbformat_minor": 4
}

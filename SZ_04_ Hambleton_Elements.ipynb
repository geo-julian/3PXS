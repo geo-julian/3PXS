{
 "cells": [
  {
   "cell_type": "code",
   "execution_count": 21,
   "metadata": {},
   "outputs": [
    {
     "name": "stdout",
     "output_type": "stream",
     "text": [
      "(1424, 84)\n",
      "(2, 84)\n"
     ]
    }
   ],
   "source": [
    "import numpy as np\n",
    "import pandas as pd\n",
    "import sys\n",
    "\n",
    "\n",
    "# db = pd.read_csv('append.csv', sep=',', header=0, \\\n",
    "#                  dtype={'SAMPLE_ID': object, 'ALT_Arg': object, 'ALT_Sil': object, 'MN_Min1_Style': object, 'MIN1': object, \\\n",
    "#                         'MN_MinOxState': object, 'MN_Ox1_Color': object, 'MN_Ox1_ColorMod': object, 'MN_Ox1_Gsize': object,\\\n",
    "#                         'MN_Sulfide_1': object, 'MN_Sulfide_1_Gsize': object, 'MN_Sulfide_1_Style': object, \\\n",
    "#                         'ST_Type': object, 'VN_Style': object, 'LTFORM':object, 'Formation':object}, \\\n",
    "#                  keep_default_na=True, na_filter=True, engine = 'python')\n",
    "\n",
    "db = pd.read_csv('Nov_21_Soils_2018_Hambleton.csv', sep=',', header=0, dtype=object, keep_default_na=False, na_filter=True, engine = 'python')\n",
    "                 \n",
    "print(db.shape)\n",
    "db_1 = db.iloc[[0,1]]\n",
    "print(db_1.shape)\n",
    "\n",
    "\n"
   ]
  },
  {
   "cell_type": "code",
   "execution_count": 22,
   "metadata": {},
   "outputs": [
    {
     "name": "stdout",
     "output_type": "stream",
     "text": [
      "['OBJECTID', 'Easting', 'Northing', 'Name', 'ID', 'sampler', 'physiography', 'slope', 'direction', 'drainage', 'vegetation', 'contamination', 'depth from (cm)', 'depth to (cm)', 'Clay %', 'Sand %', 'Gravel %', 'Organic %', 'Other %', 'Pebbles', 'Cobbles', 'Boulders', 'Notes1', 'Notes2', 'Date', 'Duplicate', 'Oxidation', 'Colour', 'GlobalID', 'Silt %', 'x', 'y', 'Sample_Number', 'Au_ppb', 'Ag_ppm', 'Cu_ppm', 'Pb_ppm', 'Zn_ppm', 'Ni_ppm', 'Co_ppm', 'As_ppm', 'W_ppm', 'Hg_ppm', 'Mo_ppm', 'Sb_ppm', 'U_ppm', 'Sn_%', 'Cd_ppm', 'S_%', 'Al_%', 'Ba_ppm', 'Be_ppm', 'Bi_ppm', 'Br_ppm', 'Ca_%', 'Cr_ppm', 'Cs_ppm', 'Eu_ppm', 'Fe_%', 'Hf_ppm', 'Ir_ppb', 'K_%', 'Li_ppm', 'Mg_%', 'Mn_ppm', 'Na_%', 'P_%', 'Rb_ppm', 'Sc_ppm', 'Se_ppm', 'Sr_ppm', 'Ta_ppm', 'Ti_%', 'Th_ppm', 'V_ppm', 'Y_ppm', 'La_ppm', 'Ce_ppm', 'Nd_ppm', 'Sm_ppm', 'Tb_ppm', 'Yb_ppm', 'Lu_ppm', 'Mass_g']\n"
     ]
    }
   ],
   "source": [
    "print(list(db_1.columns.values))"
   ]
  },
  {
   "cell_type": "code",
   "execution_count": 23,
   "metadata": {},
   "outputs": [
    {
     "name": "stdout",
     "output_type": "stream",
     "text": [
      "(2, 50)\n"
     ]
    }
   ],
   "source": [
    "#print(list(db.columns.values))\n",
    "\n",
    "cols_interes = ['Au_ppb', 'Ag_ppm', 'Cu_ppm', 'Pb_ppm', 'Zn_ppm', 'Ni_ppm', 'Co_ppm', 'As_ppm', 'W_ppm', 'Hg_ppm', 'Mo_ppm', 'Sb_ppm', 'U_ppm', 'Sn_%', 'Cd_ppm', 'S_%', 'Al_%', 'Ba_ppm', 'Be_ppm', 'Bi_ppm', 'Br_ppm', 'Ca_%', 'Cr_ppm', 'Cs_ppm', 'Eu_ppm', 'Fe_%', 'Hf_ppm', 'Ir_ppb', 'K_%', 'Li_ppm', 'Mg_%', 'Mn_ppm', 'Na_%', 'P_%', 'Rb_ppm', 'Sc_ppm', 'Se_ppm', 'Sr_ppm', 'Ta_ppm', 'Ti_%', 'Th_ppm', 'V_ppm', 'Y_ppm', 'La_ppm', 'Ce_ppm', 'Nd_ppm', 'Sm_ppm', 'Tb_ppm', 'Yb_ppm', 'Lu_ppm']\n",
    "\n",
    "db_1 = db_1[cols_interes]\n",
    "\n",
    "print(db_1.shape)\n",
    "\n",
    "\n",
    "db_1.to_csv('Nov_25_Soils_2018_Hambleton_Elements_JDiaz.csv', index=False, header=True)\n",
    "    \n",
    "    "
   ]
  }
 ],
 "metadata": {
  "kernelspec": {
   "display_name": "Python 3",
   "language": "python",
   "name": "python3"
  },
  "language_info": {
   "codemirror_mode": {
    "name": "ipython",
    "version": 3
   },
   "file_extension": ".py",
   "mimetype": "text/x-python",
   "name": "python",
   "nbconvert_exporter": "python",
   "pygments_lexer": "ipython3",
   "version": "3.7.7"
  }
 },
 "nbformat": 4,
 "nbformat_minor": 4
}

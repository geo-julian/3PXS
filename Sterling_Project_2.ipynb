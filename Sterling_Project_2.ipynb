{
 "cells": [
  {
   "cell_type": "code",
   "execution_count": 1,
   "metadata": {},
   "outputs": [
    {
     "name": "stdout",
     "output_type": "stream",
     "text": [
      "(3129, 159)\n"
     ]
    }
   ],
   "source": [
    "import numpy as np\n",
    "import pandas as pd\n",
    "import sys\n",
    "#sys.setrecursionlimit(10**6)\n",
    "\n",
    "# db = pd.read_csv('append.csv', sep=',', header=0, \\\n",
    "#                  dtype={'SAMPLE_ID': object, 'ALT_Arg': object, 'ALT_Sil': object, 'MN_Min1_Style': object, 'MIN1': object, \\\n",
    "#                         'MN_MinOxState': object, 'MN_Ox1_Color': object, 'MN_Ox1_ColorMod': object, 'MN_Ox1_Gsize': object,\\\n",
    "#                         'MN_Sulfide_1': object, 'MN_Sulfide_1_Gsize': object, 'MN_Sulfide_1_Style': object, \\\n",
    "#                         'ST_Type': object, 'VN_Style': object, 'LTFORM':object, 'Formation':object}, \\\n",
    "#                  keep_default_na=True, na_filter=True, engine = 'python')\n",
    "\n",
    "db = pd.read_csv('append.csv', sep=',', header=0, \\\n",
    "                 dtype={'HOLEID': object,'LTFORM': object}, keep_default_na=True, na_filter=True, engine = 'python')\n",
    "                 \n",
    "\n",
    "print(db.shape)\n",
    "#db.to_csv('2020_10_Drill_Data_test.csv', index=True, header=True)"
   ]
  },
  {
   "cell_type": "code",
   "execution_count": 2,
   "metadata": {},
   "outputs": [
    {
     "name": "stdout",
     "output_type": "stream",
     "text": [
      "['HOLEID', 'PROJ', 'SAMPID', 'FROM', 'TO', 'MidEast', 'MidNorth', 'MidRL', 'Au_opt', 'Au_CCS_opt', 'Ac_ppm', 'Ag_ppm', 'Al_ppm', 'Ar_ppm', 'As_ppm', 'At_ppm', 'B_ppm', 'Ba_ppm', 'Be_ppm', 'Bi_ppm', 'Br_ppm', 'C_ppm', 'Ca_ppm', 'Cd_ppm', 'Ce_ppm', 'Cl_ppm', 'Co_ppm', 'Cr_ppm', 'Cs_ppm', 'Cu_ppm', 'Dy_ppm', 'Er_ppm', 'Eu_ppm', 'F_ppm', 'Fe_ppm', 'Fr_ppm', 'Ga_ppm', 'Gd_ppm', 'Ge_ppm', 'H_ppm', 'He_ppm', 'Hf_ppm', 'Hg_ppm', 'Ho_ppm', 'I_ppm', 'In_ppm', 'Ir_ppm', 'K_ppm', 'Kr_ppm', 'La_ppm', 'Li_ppm', 'Lu_ppm', 'Mg_ppm', 'Mn_ppm', 'Mo_ppm', 'N_ppm', 'Na_ppm', 'Nb_ppm', 'Nd_ppm', 'Ne_ppm', 'Ni_ppm', 'Np_ppm', 'O_ppm', 'Os_ppm', 'P_ppm', 'Pa_ppm', 'Pb_ppm', 'Pd_ppm', 'Pm_ppm', 'Po_ppm', 'Pr_ppm', 'Pt_ppm', 'Pu_ppm', 'Ra_ppm', 'Rb_ppm', 'Re_ppm', 'Rh_ppm', 'Rn_ppm', 'Ru_ppm', 'S_ppm', 'Sb_ppm', 'Sc_ppm', 'Se_ppm', 'Si_ppm', 'Sm_ppm', 'Sn_ppm', 'Sr_ppm', 'Ta_ppm', 'Tb_ppm', 'Tc_ppm', 'Te_ppm', 'Th_ppm', 'Ti_ppm', 'Tl_ppm', 'Tm_ppm', 'U_ppm', 'V_ppm', 'W_ppm', 'Xe_ppm', 'Y_ppm', 'Yb_ppm', 'Zn_ppm', 'Zr_ppm', 'ALTARG', 'ALTBLEACH', 'ALTCALC', 'ALTCALCSIL', 'ALTCARBON', 'ALTDECALC', 'ALTPOT', 'ALTPROP', 'ALTQSP', 'ALTREIB', 'ALTSER', 'ALTSIL', 'ALTSPEC', 'LTCOLOR', 'LTFORM', 'LTLITH1', 'LTLITHMOD1', 'LTLITHPCT', 'MNGANG1', 'MNGHANG1PCT', 'MNGANG1STYLE', 'MNMET1', 'MNMET1PCT', 'MNMET1STYLE', 'MNMIN1', 'MN1STYLE', 'MNMIN1PCT', 'MNMIN1STYLE', 'MNMINOXSTATE', 'MNOX1COLOR', 'MNOX1COLORMOD', 'MNOX1', 'MNOX1GSIZE', 'MNOX1INT', 'MNOX1PCT', 'MNOX1STYLE', 'MNPY', 'MNQTZ', 'MNSULFIDE1', 'MNSULFIDE1GSIZE', 'MNSULFIDE1INT', 'MNSULFSTYLE', 'OXSUFT', 'SSULFIDEINT', 'SSULFPCT', 'SSULFIDETYPE', 'STTYPE', 'VNSTYLE', 'CGRA_pct', 'CO2_pct', 'CORG_pct', 'CTOT_pct', 'SO4_pct', 'SS_pct', 'STOT_pct', 'Wgt_BEST_kg']\n"
     ]
    }
   ],
   "source": [
    "print(list(db.columns.values))"
   ]
  },
  {
   "cell_type": "code",
   "execution_count": 3,
   "metadata": {},
   "outputs": [
    {
     "name": "stdout",
     "output_type": "stream",
     "text": [
      "(1, 126)\n",
      "['HOLEID', 'PROJ', 'SAMPID', 'FROM', 'TO', 'MidEast', 'MidNorth', 'MidRL', 'Drill Type', 'Year Drilled', 'Laboratory', 'Digestion', 'Age', 'Formation', 'LTFORM', 'LTLITH1', 'LTCOLOR', 'LTLITHMOD1', 'LTLITHPCT', 'ALTARG', 'ALTBLEACH', 'ALTCALC', 'ALTCALCSIL', 'ALTCARBON', 'ALTDECALC', 'ALTPOT', 'ALTPROP', 'ALTQSP', 'ALTREIB', 'ALTSER', 'ALTSIL', 'ALTSPEC', 'MNGANG1', 'MNGHANG1PCT', 'MNGANG1STYLE', 'MNMET1', 'MNMET1PCT', 'MNMET1STYLE', 'MNMIN1', 'MN1STYLE', 'MNMIN1PCT', 'MNMIN1STYLE', 'MNMINOXSTATE', 'MNOX1COLOR', 'MNOX1COLORMOD', 'MNOX1', 'MNOX1GSIZE', 'MNOX1INT', 'MNOX1PCT', 'MNOX1STYLE', 'MNPY', 'MNQTZ', 'MNSULFIDE1', 'MNSULFIDE1GSIZE', 'MNSULFIDE1INT', 'MNSULFSTYLE', 'OXSUFT', 'SSULFIDEINT', 'SSULFPCT', 'SSULFIDETYPE', 'STTYPE', 'VNSTYLE', 'CGRA_pct', 'CO2_pct', 'CORG_pct', 'CTOT_pct', 'SO4_pct', 'SS_pct', 'STOT_pct', 'Wgt_BEST_kg', 'Au_CCS_opt', 'Au_ppm', 'Au_ppb', 'Au_opt', 'Ag_ppm', 'Al_ppm', 'As_ppm', 'B_ppm', 'Ba_ppm', 'Be_ppm', 'Bi_ppm', 'Ca_ppm', 'Cd_ppm', 'Ce_ppm', 'Co_ppm', 'Cr_ppm', 'Cs_ppm', 'Cu_ppm', 'Fe_ppm', 'Ga_ppm', 'Ge_ppm', 'Hf_ppm', 'Hg_ppm', 'In_ppm', 'K_ppm', 'La_ppm', 'Li_ppm', 'Mg_ppm', 'Mn_ppm', 'Mo_ppm', 'Na_ppm', 'Nb_ppm', 'Ni_ppm', 'P_ppm', 'Pb_ppm', 'Pd_ppm', 'Pt_ppm', 'Rb_ppm', 'Re_ppm', 'S_ppm', 'Sb_ppm', 'Sc_ppm', 'Se_ppm', 'Sn_ppm', 'Sr_ppm', 'Ta_ppm', 'Te_ppm', 'Th_ppm', 'Ti_ppm', 'Tl_ppm', 'U_ppm', 'V_ppm', 'W_ppm', 'Y_ppm', 'Zn_ppm', 'Zr_ppm']\n"
     ]
    }
   ],
   "source": [
    "template = pd.read_csv('template.csv', sep=',', header=0, keep_default_na=True, na_filter=True, engine = 'python')\n",
    "print(template.shape)\n",
    "print(list(template.columns.values))"
   ]
  },
  {
   "cell_type": "code",
   "execution_count": 4,
   "metadata": {},
   "outputs": [
    {
     "name": "stdout",
     "output_type": "stream",
     "text": [
      "(3129, 168)\n"
     ]
    }
   ],
   "source": [
    "db['Au_ppb'] = db['Au_opt'] / 0.00002917\n",
    "\n",
    "db['Au_ppm'] = db['Au_ppb'] / 1000\n",
    "\n",
    "db['Age'] = db['LTFORM'].astype(object).str[0]\n",
    "\n",
    "db = db.replace({'Age': {'F': '01_Fault', 'Q':'02_Quaternary', 'T':'03_Tertiary', \n",
    "                                     'M':'04_Mississippian', 'D':'05_Devonian', 'S':'06_Silurian', \n",
    "                                     'C':'07_Cambrian', 'O':'08_Ordovician', 'n':'unknown', '0':'unknown', 'u':'unknown'}})\n",
    "\n",
    "db['Formation'] = db['LTFORM'].astype(object).str[1:]\n",
    "\n",
    "db = db.replace({'Formation': {'lt': '01_Fault', 'al':'02_Alluvium', 'co':'03_Conglomerate', \n",
    "                          'd':'04_Quaternary', 'ir':'05_Rhyolite Lava', 'vt':'06_Tuff', \n",
    "                          'vu':'06_Volcano-sedimentary', 'p':'08_Paintbrush Group', 'cb':'09_Bullfrog Member', \n",
    "                          'bx':'10_Tuff breccia', 'il':'11_Latite Dike', 'j':'12_Joshua Hollow', \n",
    "                          'id':'13_Diorite Dike', 'f':'15_Flourspar Canyon Fm', \n",
    "                          'tr':'16_Tarantula Canyon', 'lm':'17_Lone Mountain Dolomite', 'rm':'18_Roberts Mtn Fm', \n",
    "                          'ns':'19_Nopah Smoky', 'nd':'21_Nopah_Dundemberg', 'bk':'22_Bonanza King Fm',\n",
    "                          'de':'14_Eleana Fm', 'nh':'20_Nopah Halfpint',  'r':'unknown',     \n",
    "                          'c':'23_Carrara Fm', 'z':'24_Zabriskie Quartzite', '0':'unknown', \n",
    "                          'n':'28_Nopah Formation', 'nk':'unknown', 'zw':'25_Wood Canyon Formation', \n",
    "                          'av':'26_Antelope Valley Formation', 'e':'27_Eureka Quartzite'}})\n",
    "\n",
    "db['Formation'].replace(np.nan,'unknown', inplace=True)\n",
    "db['Age'].replace(np.nan,'unknown', inplace=True)\n",
    "\n",
    "db.loc[db['HOLEID'].astype(object).str[-1] == 'C', 'Drill Type'] = 'core' \n",
    "db.loc[db['HOLEID'].astype(object).str[-1] != 'C', 'Drill Type'] = 'RC' \n",
    "db.loc[db['HOLEID'] == 'unknown', 'drill_type'] = 'unknown' \n",
    "\n",
    "db.loc[db['HOLEID'].astype(object).str[2:4] == '18', 'Year Drilled'] = '2018'\n",
    "db.loc[db['HOLEID'].astype(object).str[3:5] == '20', 'Year Drilled'] = '2020' \n",
    "\n",
    "db.loc[db['Year Drilled'] == '2018', 'Laboratory'] = 'ALS' \n",
    "db.loc[db['Year Drilled'] == '2020', 'Laboratory'] = 'BV' \n",
    "db['Laboratory'].replace(np.nan,'unknown', inplace=True)\n",
    "\n",
    "#db.loc[db['Year Drilled'] == '2017', 'Digestion'] = '4-acid' \n",
    "db.loc[db['Year Drilled'] == '2018', 'Digestion'] = '4-acid' \n",
    "#db.loc[db['Year Drilled'] == '2019', 'Digestion'] = 'Aqua Regia'\n",
    "db.loc[db['Year Drilled'] == '2020', 'Digestion'] = 'Aqua Regia' \n",
    "\n",
    "db['Digestion'].replace(np.nan,'unknown', inplace=True)\n",
    "\n",
    "print(db.shape)"
   ]
  },
  {
   "cell_type": "code",
   "execution_count": 5,
   "metadata": {},
   "outputs": [],
   "source": [
    "db_2 = db[['HOLEID', 'PROJ', 'SAMPID', 'FROM', 'TO', 'MidEast', 'MidNorth', 'MidRL', 'Drill Type', 'Year Drilled', 'Laboratory', 'Digestion', 'Age', 'Formation', 'LTFORM', 'LTLITH1', 'LTCOLOR', 'LTLITHMOD1', 'LTLITHPCT', 'ALTARG', 'ALTBLEACH', 'ALTCALC', 'ALTCALCSIL', 'ALTCARBON', 'ALTDECALC', 'ALTPOT', 'ALTPROP', 'ALTQSP', 'ALTREIB', 'ALTSER', 'ALTSIL', 'ALTSPEC', 'MNGANG1', 'MNGHANG1PCT', 'MNGANG1STYLE', 'MNMET1', 'MNMET1PCT', 'MNMET1STYLE', 'MNMIN1', 'MN1STYLE', 'MNMIN1PCT', 'MNMIN1STYLE', 'MNMINOXSTATE', 'MNOX1COLOR', 'MNOX1COLORMOD', 'MNOX1', 'MNOX1GSIZE', 'MNOX1INT', 'MNOX1PCT', 'MNOX1STYLE', 'MNPY', 'MNQTZ', 'MNSULFIDE1', 'MNSULFIDE1GSIZE', 'MNSULFIDE1INT', 'MNSULFSTYLE', 'OXSUFT', 'SSULFIDEINT', 'SSULFPCT', 'SSULFIDETYPE', 'STTYPE', 'VNSTYLE', 'CGRA_pct', 'CO2_pct', 'CORG_pct', 'CTOT_pct', 'SO4_pct', 'SS_pct', 'STOT_pct', 'Wgt_BEST_kg', 'Au_CCS_opt', 'Au_ppm', 'Au_ppb', 'Au_opt', 'Ag_ppm', 'Al_ppm', 'As_ppm', 'B_ppm', 'Ba_ppm', 'Be_ppm', 'Bi_ppm', 'Ca_ppm', 'Cd_ppm', 'Ce_ppm', 'Co_ppm', 'Cr_ppm', 'Cs_ppm', 'Cu_ppm', 'Fe_ppm', 'Ga_ppm', 'Ge_ppm', 'Hf_ppm', 'Hg_ppm', 'In_ppm', 'K_ppm', 'La_ppm', 'Li_ppm', 'Mg_ppm', 'Mn_ppm', 'Mo_ppm', 'Na_ppm', 'Nb_ppm', 'Ni_ppm', 'P_ppm', 'Pb_ppm', 'Pd_ppm', 'Pt_ppm', 'Rb_ppm', 'Re_ppm', 'S_ppm', 'Sb_ppm', 'Sc_ppm', 'Se_ppm', 'Sn_ppm', 'Sr_ppm', 'Ta_ppm', 'Te_ppm', 'Th_ppm', 'Ti_ppm', 'Tl_ppm', 'U_ppm', 'V_ppm', 'W_ppm', 'Y_ppm', 'Zn_ppm', 'Zr_ppm']]"
   ]
  },
  {
   "cell_type": "code",
   "execution_count": 6,
   "metadata": {},
   "outputs": [],
   "source": [
    "db_2.to_csv('append_3.csv', index=False, header=True)"
   ]
  },
  {
   "cell_type": "code",
   "execution_count": 7,
   "metadata": {},
   "outputs": [
    {
     "name": "stdout",
     "output_type": "stream",
     "text": [
      "(3129, 126)\n"
     ]
    }
   ],
   "source": [
    "print(db_2.shape)"
   ]
  },
  {
   "cell_type": "code",
   "execution_count": null,
   "metadata": {},
   "outputs": [],
   "source": [
    "db_ID = pd.read_csv('2020_10_Drill_IDs_2.csv', sep=',', header=0, dtype={'HOLE-ID': object, 'SAMPLE_ID':object}, \\\n",
    "                 keep_default_na=True, na_filter=True, engine = 'python')\n",
    "\n",
    "print(db_ID.shape)"
   ]
  },
  {
   "cell_type": "code",
   "execution_count": null,
   "metadata": {
    "scrolled": true
   },
   "outputs": [],
   "source": [
    "db_2 = pd.merge(db, db_ID, how='left', on='SAMPLE_ID')\n",
    "\n",
    "print(db_2.shape)"
   ]
  },
  {
   "cell_type": "code",
   "execution_count": null,
   "metadata": {},
   "outputs": [],
   "source": [
    "#db_2.to_csv('2020_10_Drill_Data_test.csv', index=True, header=True)"
   ]
  },
  {
   "cell_type": "code",
   "execution_count": null,
   "metadata": {},
   "outputs": [],
   "source": [
    "\n",
    "db_2['HOLE-ID'].replace(np.nan,'unknown', inplace=True)\n",
    "db_2['Age'].replace(np.nan,'unknown', inplace=True)\n",
    "\n",
    "db_2['SAMPLE_ID'].replace(np.nan,'unknown', inplace=True)\n",
    "\n",
    "db_2.loc[db_2['HOLE-ID'].astype(object).str[-1] == 'C', 'drill_type'] = 'core' \n",
    "db_2.loc[db_2['HOLE-ID'].astype(object).str[-1] != 'C', 'drill_type'] = 'RC' \n",
    "db_2.loc[db_2['HOLE-ID'] == 'unknown', 'drill_type'] = 'unknown' \n",
    "\n",
    "db_2.loc[db_2['HOLE-ID'].astype(object).str[1:3] == '17', 'year_drilled'] = '2017' \n",
    "db_2.loc[db_2['HOLE-ID'].astype(object).str[1:3] == '18', 'year_drilled'] = '2018' \n",
    "db_2.loc[db_2['HOLE-ID'].astype(object).str[1:3] == '19', 'year_drilled'] = '2019' \n",
    "db_2.loc[db_2['HOLE-ID'].astype(object).str[2:4] == '18', 'year_drilled'] = '2018' \n",
    "db_2.loc[db_2['HOLE-ID'].astype(object).str[3:5] == '18', 'year_drilled'] = '2018' \n",
    "db_2['year_drilled'].replace(np.nan,'unknown', inplace=True)\n",
    "\n",
    "db_2.loc[db_2['year_drilled'] == '2017', 'Laboratory'] = 'ALS' \n",
    "db_2.loc[db_2['year_drilled'] == '2018', 'Laboratory'] = 'ALS' \n",
    "db_2.loc[db_2['year_drilled'] == '2019', 'Laboratory'] = 'BV' \n",
    "db_2['Laboratory'].replace(np.nan,'unknown', inplace=True)\n",
    "\n",
    "db_2.loc[db_2['year_drilled'] == '2017', 'Digestion'] = '4-acid' \n",
    "db_2.loc[db_2['year_drilled'] == '2018', 'Digestion'] = '4-acid' \n",
    "db_2.loc[db_2['year_drilled'] == '2019', 'Digestion'] = 'Aqua Regia' \n",
    "db_2['Digestion'].replace(np.nan,'unknown', inplace=True)\n",
    "\n",
    "print(db_2.shape)\n",
    "#db_2.to_csv('2020_10_Drill_Data_test.csv', index=True, header=True)"
   ]
  },
  {
   "cell_type": "code",
   "execution_count": null,
   "metadata": {},
   "outputs": [],
   "source": [
    "db_3 = db_2[['PROJECT', 'HOLE-ID', 'SAMPLE_ID', 'FROM', 'TO', \\\n",
    "         'drill_type', 'year_drilled', 'Laboratory', 'Digestion', 'Age', 'Formation', \\\n",
    "         'LT_Form', 'LITH1', 'LT_Lith_1_Mod1', 'LT_Lith_1_pct',\n",
    "         'ALT_Arg', 'ALT_Bleach', 'ALT_Calc', 'ALT_CalcSil', 'ALT_Carbon', 'ALT_Decalc', 'ALT1INTENS', \\\n",
    "         'ALT_Pot', 'ALT_Prop', 'ALT_QSP', 'ALT_Rieb', 'ALT_Ser', 'ALT_Sil', 'ALT_Spec', 'ALT1', \\\n",
    "         'MN_Gang1', 'MN_Gang1_pct', \\\n",
    "         'MN_Gang1_style', 'MN_Met1', 'MN_Met1_pct', 'MN_Met1_style', 'MN_Min1_Int', 'MN_Min1_Style', \\\n",
    "         'MIN1', 'MN_MinOxState', 'MN_Ox1', 'MN_Ox1_Color', 'MN_Ox1_ColorMod', 'MN_Ox1_Gsize', \\\n",
    "         'MN_Ox1_Int', 'MN_Ox1_pct', 'MN_Ox1_style', 'MIN1PCT', 'MN_Py', 'MN_Qtz', 'MN_Sulfide_1', \\\n",
    "         'MN_Sulfide_1_Gsize', 'MN_Sulfide_1_Int', 'MN_Sulfide_1_Style', 'OXIDATION', 'OX_SufT', \\\n",
    "         'RT_Pri_Color', 'RT1', 'RT1PCT', 'S_Sulfide_Int', 'SULFIDEPCT', 'S_Sulfide_Type', \\\n",
    "         'ST_Type', 'VN_Style', \\\n",
    "         'Au_CCS_BEST_opt', 'Au_ppb', 'Au_ppm', 'Au_BEST_opt', \\\n",
    "         'AgEq_BEST_ppm', 'Ac_BEST_ppm', 'Ag_BEST_ppm', 'Al_BEST_ppm', 'Ar_BEST_ppm', \\\n",
    "         'As_BEST_ppm', 'At_BEST_ppm', 'B_BEST_ppm', 'Ba_BEST_ppm', 'Be_BEST_ppm', 'Bi_BEST_ppm', \\\n",
    "         'Br_BEST_ppm', 'C_BEST_ppm', 'Ca_BEST_ppm', 'Cd_BEST_ppm', 'Ce_BEST_ppm', 'Cl_BEST_ppm', \\\n",
    "         'Co_BEST_ppm', 'Cr_BEST_ppm', 'Cs_BEST_ppm', 'Cu_BEST_ppm', 'Dy_BEST_ppm', 'Er_BEST_ppm', \\\n",
    "         'Eu_BEST_ppm', 'F_BEST_ppm', 'Fe_BEST_ppm', 'Fr_BEST_ppm', 'Ga_BEST_ppm', 'Gd_BEST_ppm', \\\n",
    "         'Ge_BEST_ppm', 'H_BEST_ppm', 'He_BEST_ppm', 'Hf_BEST_ppm', 'Hg_BEST_ppm', 'Ho_BEST_ppm', \\\n",
    "         'I_BEST_ppm', 'In_BEST_ppm', 'Ir_BEST_ppm', 'K_BEST_ppm', 'Kr_BEST_ppm', 'La_BEST_ppm', \\\n",
    "         'Li_BEST_ppm', 'Lu_BEST_ppm', 'Mg_BEST_ppm', 'Mn_BEST_ppm', 'Mo_BEST_ppm', 'N_BEST_ppm', \\\n",
    "         'Na_BEST_ppm', 'Nb_BEST_ppm', 'Nd_BEST_ppm', 'Ne_BEST_ppm', 'Ni_BEST_ppm', 'Np_BEST_ppm', \\\n",
    "         'O_BEST_ppm', 'Os_BEST_ppm', 'P_BEST_ppm', 'Pa_BEST_ppm', 'Pb_BEST_ppm', 'Pd_BEST_ppm',  \\\n",
    "         'Pm_BEST_ppm', 'Po_BEST_ppm', 'Pr_BEST_ppm', 'Pt_BEST_ppm', 'Pu_BEST_ppm', 'Ra_BEST_ppm', \\\n",
    "         'Rb_BEST_ppm', 'Re_BEST_ppm', 'Rh_BEST_ppm', 'Rn_BEST_ppm', 'Ru_BEST_ppm', 'S_BEST_ppm', \\\n",
    "         'Sb_BEST_ppm', 'Sc_BEST_ppm', 'Se_BEST_ppm', 'Si_BEST_ppm', 'Sm_BEST_ppm', 'Sn_BEST_ppm', \\\n",
    "         'Sr_BEST_ppm', 'Ta_BEST_ppm', 'Tb_BEST_ppm', 'Tc_BEST_ppm', 'Te_BEST_ppm', 'Th_BEST_ppm', \\\n",
    "         'Ti_BEST_ppm', 'Tl_BEST_ppm', 'Tm_BEST_ppm', 'U_BEST_ppm', 'V_BEST_ppm', 'W_BEST_ppm', \\\n",
    "         'Wgt_BEST_ppm', 'Xe_BEST_ppm', 'Y_BEST_ppm', 'Yb_BEST_ppm', 'Zn_BEST_ppm', 'Zr_BEST_ppm']]\n",
    "\n",
    "print(db_3.shape)\n",
    "db_3.to_csv('2020_10_Drill_Data_modified_JDR.csv', index=True, header=True)"
   ]
  },
  {
   "cell_type": "code",
   "execution_count": null,
   "metadata": {},
   "outputs": [],
   "source": []
  }
 ],
 "metadata": {
  "kernelspec": {
   "display_name": "Python 3",
   "language": "python",
   "name": "python3"
  },
  "language_info": {
   "codemirror_mode": {
    "name": "ipython",
    "version": 3
   },
   "file_extension": ".py",
   "mimetype": "text/x-python",
   "name": "python",
   "nbconvert_exporter": "python",
   "pygments_lexer": "ipython3",
   "version": "3.7.6"
  }
 },
 "nbformat": 4,
 "nbformat_minor": 4
}
